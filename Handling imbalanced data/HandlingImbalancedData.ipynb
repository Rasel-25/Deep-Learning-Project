{
 "cells": [
  {
   "cell_type": "code",
   "execution_count": 44,
   "metadata": {},
   "outputs": [],
   "source": [
    "import pandas as pd\n",
    "from matplotlib import pyplot as plt\n",
    "import seaborn as sns\n",
    "import numpy as np\n",
    "%matplotlib inline"
   ]
  },
  {
   "cell_type": "code",
   "execution_count": 45,
   "metadata": {},
   "outputs": [],
   "source": [
    "import warnings\n",
    "warnings.filterwarnings('ignore')"
   ]
  },
  {
   "cell_type": "markdown",
   "metadata": {},
   "source": [
    "# Step-1: Data Gathering "
   ]
  },
  {
   "cell_type": "code",
   "execution_count": 46,
   "metadata": {},
   "outputs": [
    {
     "data": {
      "text/html": [
       "<div>\n",
       "<style scoped>\n",
       "    .dataframe tbody tr th:only-of-type {\n",
       "        vertical-align: middle;\n",
       "    }\n",
       "\n",
       "    .dataframe tbody tr th {\n",
       "        vertical-align: top;\n",
       "    }\n",
       "\n",
       "    .dataframe thead th {\n",
       "        text-align: right;\n",
       "    }\n",
       "</style>\n",
       "<table border=\"1\" class=\"dataframe\">\n",
       "  <thead>\n",
       "    <tr style=\"text-align: right;\">\n",
       "      <th></th>\n",
       "      <th>customerID</th>\n",
       "      <th>gender</th>\n",
       "      <th>SeniorCitizen</th>\n",
       "      <th>Partner</th>\n",
       "      <th>Dependents</th>\n",
       "      <th>tenure</th>\n",
       "      <th>PhoneService</th>\n",
       "      <th>MultipleLines</th>\n",
       "      <th>InternetService</th>\n",
       "      <th>OnlineSecurity</th>\n",
       "      <th>...</th>\n",
       "      <th>DeviceProtection</th>\n",
       "      <th>TechSupport</th>\n",
       "      <th>StreamingTV</th>\n",
       "      <th>StreamingMovies</th>\n",
       "      <th>Contract</th>\n",
       "      <th>PaperlessBilling</th>\n",
       "      <th>PaymentMethod</th>\n",
       "      <th>MonthlyCharges</th>\n",
       "      <th>TotalCharges</th>\n",
       "      <th>Churn</th>\n",
       "    </tr>\n",
       "  </thead>\n",
       "  <tbody>\n",
       "    <tr>\n",
       "      <th>5515</th>\n",
       "      <td>2892-GESUL</td>\n",
       "      <td>Female</td>\n",
       "      <td>0</td>\n",
       "      <td>Yes</td>\n",
       "      <td>Yes</td>\n",
       "      <td>18</td>\n",
       "      <td>Yes</td>\n",
       "      <td>No</td>\n",
       "      <td>No</td>\n",
       "      <td>No internet service</td>\n",
       "      <td>...</td>\n",
       "      <td>No internet service</td>\n",
       "      <td>No internet service</td>\n",
       "      <td>No internet service</td>\n",
       "      <td>No internet service</td>\n",
       "      <td>Two year</td>\n",
       "      <td>No</td>\n",
       "      <td>Mailed check</td>\n",
       "      <td>19.35</td>\n",
       "      <td>309.25</td>\n",
       "      <td>No</td>\n",
       "    </tr>\n",
       "    <tr>\n",
       "      <th>6967</th>\n",
       "      <td>8739-WWKDU</td>\n",
       "      <td>Male</td>\n",
       "      <td>1</td>\n",
       "      <td>No</td>\n",
       "      <td>No</td>\n",
       "      <td>25</td>\n",
       "      <td>Yes</td>\n",
       "      <td>Yes</td>\n",
       "      <td>Fiber optic</td>\n",
       "      <td>No</td>\n",
       "      <td>...</td>\n",
       "      <td>No</td>\n",
       "      <td>No</td>\n",
       "      <td>Yes</td>\n",
       "      <td>No</td>\n",
       "      <td>Month-to-month</td>\n",
       "      <td>Yes</td>\n",
       "      <td>Electronic check</td>\n",
       "      <td>89.50</td>\n",
       "      <td>2196.15</td>\n",
       "      <td>Yes</td>\n",
       "    </tr>\n",
       "    <tr>\n",
       "      <th>2127</th>\n",
       "      <td>8035-BUYVG</td>\n",
       "      <td>Male</td>\n",
       "      <td>0</td>\n",
       "      <td>Yes</td>\n",
       "      <td>No</td>\n",
       "      <td>40</td>\n",
       "      <td>No</td>\n",
       "      <td>No phone service</td>\n",
       "      <td>DSL</td>\n",
       "      <td>Yes</td>\n",
       "      <td>...</td>\n",
       "      <td>Yes</td>\n",
       "      <td>No</td>\n",
       "      <td>No</td>\n",
       "      <td>No</td>\n",
       "      <td>One year</td>\n",
       "      <td>Yes</td>\n",
       "      <td>Electronic check</td>\n",
       "      <td>42.35</td>\n",
       "      <td>1716.45</td>\n",
       "      <td>Yes</td>\n",
       "    </tr>\n",
       "    <tr>\n",
       "      <th>6582</th>\n",
       "      <td>9558-IHEZX</td>\n",
       "      <td>Female</td>\n",
       "      <td>0</td>\n",
       "      <td>No</td>\n",
       "      <td>No</td>\n",
       "      <td>71</td>\n",
       "      <td>Yes</td>\n",
       "      <td>Yes</td>\n",
       "      <td>Fiber optic</td>\n",
       "      <td>Yes</td>\n",
       "      <td>...</td>\n",
       "      <td>Yes</td>\n",
       "      <td>No</td>\n",
       "      <td>Yes</td>\n",
       "      <td>Yes</td>\n",
       "      <td>Two year</td>\n",
       "      <td>Yes</td>\n",
       "      <td>Credit card (automatic)</td>\n",
       "      <td>106.75</td>\n",
       "      <td>7283.25</td>\n",
       "      <td>No</td>\n",
       "    </tr>\n",
       "    <tr>\n",
       "      <th>4242</th>\n",
       "      <td>6124-ACRHJ</td>\n",
       "      <td>Female</td>\n",
       "      <td>0</td>\n",
       "      <td>No</td>\n",
       "      <td>No</td>\n",
       "      <td>1</td>\n",
       "      <td>Yes</td>\n",
       "      <td>No</td>\n",
       "      <td>No</td>\n",
       "      <td>No internet service</td>\n",
       "      <td>...</td>\n",
       "      <td>No internet service</td>\n",
       "      <td>No internet service</td>\n",
       "      <td>No internet service</td>\n",
       "      <td>No internet service</td>\n",
       "      <td>Month-to-month</td>\n",
       "      <td>No</td>\n",
       "      <td>Mailed check</td>\n",
       "      <td>19.75</td>\n",
       "      <td>19.75</td>\n",
       "      <td>No</td>\n",
       "    </tr>\n",
       "  </tbody>\n",
       "</table>\n",
       "<p>5 rows × 21 columns</p>\n",
       "</div>"
      ],
      "text/plain": [
       "      customerID  gender  SeniorCitizen Partner Dependents  tenure  \\\n",
       "5515  2892-GESUL  Female              0     Yes        Yes      18   \n",
       "6967  8739-WWKDU    Male              1      No         No      25   \n",
       "2127  8035-BUYVG    Male              0     Yes         No      40   \n",
       "6582  9558-IHEZX  Female              0      No         No      71   \n",
       "4242  6124-ACRHJ  Female              0      No         No       1   \n",
       "\n",
       "     PhoneService     MultipleLines InternetService       OnlineSecurity  ...  \\\n",
       "5515          Yes                No              No  No internet service  ...   \n",
       "6967          Yes               Yes     Fiber optic                   No  ...   \n",
       "2127           No  No phone service             DSL                  Yes  ...   \n",
       "6582          Yes               Yes     Fiber optic                  Yes  ...   \n",
       "4242          Yes                No              No  No internet service  ...   \n",
       "\n",
       "         DeviceProtection          TechSupport          StreamingTV  \\\n",
       "5515  No internet service  No internet service  No internet service   \n",
       "6967                   No                   No                  Yes   \n",
       "2127                  Yes                   No                   No   \n",
       "6582                  Yes                   No                  Yes   \n",
       "4242  No internet service  No internet service  No internet service   \n",
       "\n",
       "          StreamingMovies        Contract PaperlessBilling  \\\n",
       "5515  No internet service        Two year               No   \n",
       "6967                   No  Month-to-month              Yes   \n",
       "2127                   No        One year              Yes   \n",
       "6582                  Yes        Two year              Yes   \n",
       "4242  No internet service  Month-to-month               No   \n",
       "\n",
       "                PaymentMethod MonthlyCharges  TotalCharges Churn  \n",
       "5515             Mailed check          19.35        309.25    No  \n",
       "6967         Electronic check          89.50       2196.15   Yes  \n",
       "2127         Electronic check          42.35       1716.45   Yes  \n",
       "6582  Credit card (automatic)         106.75       7283.25    No  \n",
       "4242             Mailed check          19.75         19.75    No  \n",
       "\n",
       "[5 rows x 21 columns]"
      ]
     },
     "execution_count": 46,
     "metadata": {},
     "output_type": "execute_result"
    }
   ],
   "source": [
    "df = pd.read_csv(\"TelecomCustomerChurn.csv\")\n",
    "df.sample(5)"
   ]
  },
  {
   "cell_type": "code",
   "execution_count": 47,
   "metadata": {},
   "outputs": [
    {
     "data": {
      "text/plain": [
       "No     5174\n",
       "Yes    1869\n",
       "Name: Churn, dtype: int64"
      ]
     },
     "execution_count": 47,
     "metadata": {},
     "output_type": "execute_result"
    }
   ],
   "source": [
    "df['Churn'].value_counts()"
   ]
  },
  {
   "cell_type": "code",
   "execution_count": 48,
   "metadata": {},
   "outputs": [
    {
     "data": {
      "text/plain": [
       "73.46301292063042"
      ]
     },
     "execution_count": 48,
     "metadata": {},
     "output_type": "execute_result"
    }
   ],
   "source": [
    "517400/df.shape[0]"
   ]
  },
  {
   "cell_type": "markdown",
   "metadata": {},
   "source": [
    "# Steps-2: Data Preprocessing"
   ]
  },
  {
   "cell_type": "markdown",
   "metadata": {},
   "source": [
    "First, remove the customerID column because it is useless."
   ]
  },
  {
   "cell_type": "code",
   "execution_count": 49,
   "metadata": {},
   "outputs": [],
   "source": [
    "df.drop('customerID',axis='columns',inplace=True) "
   ]
  },
  {
   "cell_type": "code",
   "execution_count": 50,
   "metadata": {},
   "outputs": [
    {
     "data": {
      "text/plain": [
       "gender               object\n",
       "SeniorCitizen         int64\n",
       "Partner              object\n",
       "Dependents           object\n",
       "tenure                int64\n",
       "PhoneService         object\n",
       "MultipleLines        object\n",
       "InternetService      object\n",
       "OnlineSecurity       object\n",
       "OnlineBackup         object\n",
       "DeviceProtection     object\n",
       "TechSupport          object\n",
       "StreamingTV          object\n",
       "StreamingMovies      object\n",
       "Contract             object\n",
       "PaperlessBilling     object\n",
       "PaymentMethod        object\n",
       "MonthlyCharges      float64\n",
       "TotalCharges         object\n",
       "Churn                object\n",
       "dtype: object"
      ]
     },
     "execution_count": 50,
     "metadata": {},
     "output_type": "execute_result"
    }
   ],
   "source": [
    "df.dtypes"
   ]
  },
  {
   "cell_type": "markdown",
   "metadata": {},
   "source": [
    "Upon quick inspection, I see that TotalCharges is an object even though it should be a float. Let's investigate the current state of this column."
   ]
  },
  {
   "cell_type": "code",
   "execution_count": 51,
   "metadata": {},
   "outputs": [
    {
     "data": {
      "text/plain": [
       "array(['29.85', '1889.5', '108.15', ..., '346.45', '306.6', '6844.5'],\n",
       "      dtype=object)"
      ]
     },
     "execution_count": 51,
     "metadata": {},
     "output_type": "execute_result"
    }
   ],
   "source": [
    "df.TotalCharges.values"
   ]
  },
  {
   "cell_type": "markdown",
   "metadata": {},
   "source": [
    "Ahh... it is string. Lets convert it to numbers"
   ]
  },
  {
   "cell_type": "code",
   "execution_count": 52,
   "metadata": {},
   "outputs": [
    {
     "data": {
      "text/plain": [
       "0       False\n",
       "1       False\n",
       "2       False\n",
       "3       False\n",
       "4       False\n",
       "        ...  \n",
       "7038    False\n",
       "7039    False\n",
       "7040    False\n",
       "7041    False\n",
       "7042    False\n",
       "Name: TotalCharges, Length: 7043, dtype: bool"
      ]
     },
     "execution_count": 52,
     "metadata": {},
     "output_type": "execute_result"
    }
   ],
   "source": [
    "pd.to_numeric(df.TotalCharges,errors='coerce').isnull()"
   ]
  },
  {
   "cell_type": "code",
   "execution_count": 53,
   "metadata": {},
   "outputs": [
    {
     "data": {
      "text/plain": [
       "(11, 20)"
      ]
     },
     "execution_count": 53,
     "metadata": {},
     "output_type": "execute_result"
    }
   ],
   "source": [
    "df[pd.to_numeric(df.TotalCharges,errors='coerce').isnull()].shape"
   ]
  },
  {
   "cell_type": "code",
   "execution_count": 54,
   "metadata": {},
   "outputs": [
    {
     "data": {
      "text/plain": [
       "(11, 20)"
      ]
     },
     "execution_count": 54,
     "metadata": {},
     "output_type": "execute_result"
    }
   ],
   "source": [
    "df[df.TotalCharges==' '].shape  # getting only with white Space included rows"
   ]
  },
  {
   "cell_type": "code",
   "execution_count": 55,
   "metadata": {},
   "outputs": [
    {
     "data": {
      "text/plain": [
       "' '"
      ]
     },
     "execution_count": 55,
     "metadata": {},
     "output_type": "execute_result"
    }
   ],
   "source": [
    "df.iloc[488].TotalCharges"
   ]
  },
  {
   "cell_type": "markdown",
   "metadata": {},
   "source": [
    "    | Remove rows with space in TotalCharges "
   ]
  },
  {
   "cell_type": "code",
   "execution_count": 56,
   "metadata": {},
   "outputs": [
    {
     "data": {
      "text/plain": [
       "(7032, 20)"
      ]
     },
     "execution_count": 56,
     "metadata": {},
     "output_type": "execute_result"
    }
   ],
   "source": [
    "df1 = df[df.TotalCharges!=' '] # getting only without white Space included rows\n",
    "df1.shape  "
   ]
  },
  {
   "cell_type": "code",
   "execution_count": 57,
   "metadata": {},
   "outputs": [],
   "source": [
    "df1.TotalCharges = pd.to_numeric(df1.TotalCharges)"
   ]
  },
  {
   "cell_type": "code",
   "execution_count": 58,
   "metadata": {},
   "outputs": [
    {
     "data": {
      "text/plain": [
       "dtype('float64')"
      ]
     },
     "execution_count": 58,
     "metadata": {},
     "output_type": "execute_result"
    }
   ],
   "source": [
    "df1.dtypes.TotalCharges # getting data type of TotalCharges "
   ]
  },
  {
   "cell_type": "code",
   "execution_count": 59,
   "metadata": {},
   "outputs": [
    {
     "data": {
      "text/plain": [
       "(5163, 20)"
      ]
     },
     "execution_count": 59,
     "metadata": {},
     "output_type": "execute_result"
    }
   ],
   "source": [
    "df1[df1.Churn=='No'].shape # getting Churn=='No' rows"
   ]
  },
  {
   "cell_type": "code",
   "execution_count": 60,
   "metadata": {},
   "outputs": [
    {
     "data": {
      "text/html": [
       "<div>\n",
       "<style scoped>\n",
       "    .dataframe tbody tr th:only-of-type {\n",
       "        vertical-align: middle;\n",
       "    }\n",
       "\n",
       "    .dataframe tbody tr th {\n",
       "        vertical-align: top;\n",
       "    }\n",
       "\n",
       "    .dataframe thead th {\n",
       "        text-align: right;\n",
       "    }\n",
       "</style>\n",
       "<table border=\"1\" class=\"dataframe\">\n",
       "  <thead>\n",
       "    <tr style=\"text-align: right;\">\n",
       "      <th></th>\n",
       "      <th>gender</th>\n",
       "      <th>SeniorCitizen</th>\n",
       "      <th>Partner</th>\n",
       "      <th>Dependents</th>\n",
       "      <th>tenure</th>\n",
       "      <th>PhoneService</th>\n",
       "      <th>MultipleLines</th>\n",
       "      <th>InternetService</th>\n",
       "      <th>OnlineSecurity</th>\n",
       "      <th>OnlineBackup</th>\n",
       "      <th>DeviceProtection</th>\n",
       "      <th>TechSupport</th>\n",
       "      <th>StreamingTV</th>\n",
       "      <th>StreamingMovies</th>\n",
       "      <th>Contract</th>\n",
       "      <th>PaperlessBilling</th>\n",
       "      <th>PaymentMethod</th>\n",
       "      <th>MonthlyCharges</th>\n",
       "      <th>TotalCharges</th>\n",
       "      <th>Churn</th>\n",
       "    </tr>\n",
       "  </thead>\n",
       "  <tbody>\n",
       "    <tr>\n",
       "      <th>2</th>\n",
       "      <td>Male</td>\n",
       "      <td>0</td>\n",
       "      <td>No</td>\n",
       "      <td>No</td>\n",
       "      <td>2</td>\n",
       "      <td>Yes</td>\n",
       "      <td>No</td>\n",
       "      <td>DSL</td>\n",
       "      <td>Yes</td>\n",
       "      <td>Yes</td>\n",
       "      <td>No</td>\n",
       "      <td>No</td>\n",
       "      <td>No</td>\n",
       "      <td>No</td>\n",
       "      <td>Month-to-month</td>\n",
       "      <td>Yes</td>\n",
       "      <td>Mailed check</td>\n",
       "      <td>53.85</td>\n",
       "      <td>108.15</td>\n",
       "      <td>Yes</td>\n",
       "    </tr>\n",
       "    <tr>\n",
       "      <th>4</th>\n",
       "      <td>Female</td>\n",
       "      <td>0</td>\n",
       "      <td>No</td>\n",
       "      <td>No</td>\n",
       "      <td>2</td>\n",
       "      <td>Yes</td>\n",
       "      <td>No</td>\n",
       "      <td>Fiber optic</td>\n",
       "      <td>No</td>\n",
       "      <td>No</td>\n",
       "      <td>No</td>\n",
       "      <td>No</td>\n",
       "      <td>No</td>\n",
       "      <td>No</td>\n",
       "      <td>Month-to-month</td>\n",
       "      <td>Yes</td>\n",
       "      <td>Electronic check</td>\n",
       "      <td>70.70</td>\n",
       "      <td>151.65</td>\n",
       "      <td>Yes</td>\n",
       "    </tr>\n",
       "    <tr>\n",
       "      <th>5</th>\n",
       "      <td>Female</td>\n",
       "      <td>0</td>\n",
       "      <td>No</td>\n",
       "      <td>No</td>\n",
       "      <td>8</td>\n",
       "      <td>Yes</td>\n",
       "      <td>Yes</td>\n",
       "      <td>Fiber optic</td>\n",
       "      <td>No</td>\n",
       "      <td>No</td>\n",
       "      <td>Yes</td>\n",
       "      <td>No</td>\n",
       "      <td>Yes</td>\n",
       "      <td>Yes</td>\n",
       "      <td>Month-to-month</td>\n",
       "      <td>Yes</td>\n",
       "      <td>Electronic check</td>\n",
       "      <td>99.65</td>\n",
       "      <td>820.50</td>\n",
       "      <td>Yes</td>\n",
       "    </tr>\n",
       "    <tr>\n",
       "      <th>8</th>\n",
       "      <td>Female</td>\n",
       "      <td>0</td>\n",
       "      <td>Yes</td>\n",
       "      <td>No</td>\n",
       "      <td>28</td>\n",
       "      <td>Yes</td>\n",
       "      <td>Yes</td>\n",
       "      <td>Fiber optic</td>\n",
       "      <td>No</td>\n",
       "      <td>No</td>\n",
       "      <td>Yes</td>\n",
       "      <td>Yes</td>\n",
       "      <td>Yes</td>\n",
       "      <td>Yes</td>\n",
       "      <td>Month-to-month</td>\n",
       "      <td>Yes</td>\n",
       "      <td>Electronic check</td>\n",
       "      <td>104.80</td>\n",
       "      <td>3046.05</td>\n",
       "      <td>Yes</td>\n",
       "    </tr>\n",
       "    <tr>\n",
       "      <th>13</th>\n",
       "      <td>Male</td>\n",
       "      <td>0</td>\n",
       "      <td>No</td>\n",
       "      <td>No</td>\n",
       "      <td>49</td>\n",
       "      <td>Yes</td>\n",
       "      <td>Yes</td>\n",
       "      <td>Fiber optic</td>\n",
       "      <td>No</td>\n",
       "      <td>Yes</td>\n",
       "      <td>Yes</td>\n",
       "      <td>No</td>\n",
       "      <td>Yes</td>\n",
       "      <td>Yes</td>\n",
       "      <td>Month-to-month</td>\n",
       "      <td>Yes</td>\n",
       "      <td>Bank transfer (automatic)</td>\n",
       "      <td>103.70</td>\n",
       "      <td>5036.30</td>\n",
       "      <td>Yes</td>\n",
       "    </tr>\n",
       "    <tr>\n",
       "      <th>...</th>\n",
       "      <td>...</td>\n",
       "      <td>...</td>\n",
       "      <td>...</td>\n",
       "      <td>...</td>\n",
       "      <td>...</td>\n",
       "      <td>...</td>\n",
       "      <td>...</td>\n",
       "      <td>...</td>\n",
       "      <td>...</td>\n",
       "      <td>...</td>\n",
       "      <td>...</td>\n",
       "      <td>...</td>\n",
       "      <td>...</td>\n",
       "      <td>...</td>\n",
       "      <td>...</td>\n",
       "      <td>...</td>\n",
       "      <td>...</td>\n",
       "      <td>...</td>\n",
       "      <td>...</td>\n",
       "      <td>...</td>\n",
       "    </tr>\n",
       "    <tr>\n",
       "      <th>7021</th>\n",
       "      <td>Male</td>\n",
       "      <td>0</td>\n",
       "      <td>No</td>\n",
       "      <td>No</td>\n",
       "      <td>12</td>\n",
       "      <td>Yes</td>\n",
       "      <td>No</td>\n",
       "      <td>DSL</td>\n",
       "      <td>No</td>\n",
       "      <td>No</td>\n",
       "      <td>No</td>\n",
       "      <td>Yes</td>\n",
       "      <td>Yes</td>\n",
       "      <td>No</td>\n",
       "      <td>One year</td>\n",
       "      <td>Yes</td>\n",
       "      <td>Electronic check</td>\n",
       "      <td>59.80</td>\n",
       "      <td>727.80</td>\n",
       "      <td>Yes</td>\n",
       "    </tr>\n",
       "    <tr>\n",
       "      <th>7026</th>\n",
       "      <td>Female</td>\n",
       "      <td>0</td>\n",
       "      <td>No</td>\n",
       "      <td>No</td>\n",
       "      <td>9</td>\n",
       "      <td>Yes</td>\n",
       "      <td>No</td>\n",
       "      <td>DSL</td>\n",
       "      <td>No</td>\n",
       "      <td>No</td>\n",
       "      <td>No</td>\n",
       "      <td>No</td>\n",
       "      <td>No</td>\n",
       "      <td>No</td>\n",
       "      <td>Month-to-month</td>\n",
       "      <td>Yes</td>\n",
       "      <td>Bank transfer (automatic)</td>\n",
       "      <td>44.20</td>\n",
       "      <td>403.35</td>\n",
       "      <td>Yes</td>\n",
       "    </tr>\n",
       "    <tr>\n",
       "      <th>7032</th>\n",
       "      <td>Male</td>\n",
       "      <td>1</td>\n",
       "      <td>No</td>\n",
       "      <td>No</td>\n",
       "      <td>1</td>\n",
       "      <td>Yes</td>\n",
       "      <td>Yes</td>\n",
       "      <td>Fiber optic</td>\n",
       "      <td>No</td>\n",
       "      <td>No</td>\n",
       "      <td>No</td>\n",
       "      <td>No</td>\n",
       "      <td>No</td>\n",
       "      <td>No</td>\n",
       "      <td>Month-to-month</td>\n",
       "      <td>Yes</td>\n",
       "      <td>Electronic check</td>\n",
       "      <td>75.75</td>\n",
       "      <td>75.75</td>\n",
       "      <td>Yes</td>\n",
       "    </tr>\n",
       "    <tr>\n",
       "      <th>7034</th>\n",
       "      <td>Female</td>\n",
       "      <td>0</td>\n",
       "      <td>No</td>\n",
       "      <td>No</td>\n",
       "      <td>67</td>\n",
       "      <td>Yes</td>\n",
       "      <td>Yes</td>\n",
       "      <td>Fiber optic</td>\n",
       "      <td>Yes</td>\n",
       "      <td>Yes</td>\n",
       "      <td>Yes</td>\n",
       "      <td>No</td>\n",
       "      <td>Yes</td>\n",
       "      <td>No</td>\n",
       "      <td>Month-to-month</td>\n",
       "      <td>Yes</td>\n",
       "      <td>Credit card (automatic)</td>\n",
       "      <td>102.95</td>\n",
       "      <td>6886.25</td>\n",
       "      <td>Yes</td>\n",
       "    </tr>\n",
       "    <tr>\n",
       "      <th>7041</th>\n",
       "      <td>Male</td>\n",
       "      <td>1</td>\n",
       "      <td>Yes</td>\n",
       "      <td>No</td>\n",
       "      <td>4</td>\n",
       "      <td>Yes</td>\n",
       "      <td>Yes</td>\n",
       "      <td>Fiber optic</td>\n",
       "      <td>No</td>\n",
       "      <td>No</td>\n",
       "      <td>No</td>\n",
       "      <td>No</td>\n",
       "      <td>No</td>\n",
       "      <td>No</td>\n",
       "      <td>Month-to-month</td>\n",
       "      <td>Yes</td>\n",
       "      <td>Mailed check</td>\n",
       "      <td>74.40</td>\n",
       "      <td>306.60</td>\n",
       "      <td>Yes</td>\n",
       "    </tr>\n",
       "  </tbody>\n",
       "</table>\n",
       "<p>1869 rows × 20 columns</p>\n",
       "</div>"
      ],
      "text/plain": [
       "      gender  SeniorCitizen Partner Dependents  tenure PhoneService  \\\n",
       "2       Male              0      No         No       2          Yes   \n",
       "4     Female              0      No         No       2          Yes   \n",
       "5     Female              0      No         No       8          Yes   \n",
       "8     Female              0     Yes         No      28          Yes   \n",
       "13      Male              0      No         No      49          Yes   \n",
       "...      ...            ...     ...        ...     ...          ...   \n",
       "7021    Male              0      No         No      12          Yes   \n",
       "7026  Female              0      No         No       9          Yes   \n",
       "7032    Male              1      No         No       1          Yes   \n",
       "7034  Female              0      No         No      67          Yes   \n",
       "7041    Male              1     Yes         No       4          Yes   \n",
       "\n",
       "     MultipleLines InternetService OnlineSecurity OnlineBackup  \\\n",
       "2               No             DSL            Yes          Yes   \n",
       "4               No     Fiber optic             No           No   \n",
       "5              Yes     Fiber optic             No           No   \n",
       "8              Yes     Fiber optic             No           No   \n",
       "13             Yes     Fiber optic             No          Yes   \n",
       "...            ...             ...            ...          ...   \n",
       "7021            No             DSL             No           No   \n",
       "7026            No             DSL             No           No   \n",
       "7032           Yes     Fiber optic             No           No   \n",
       "7034           Yes     Fiber optic            Yes          Yes   \n",
       "7041           Yes     Fiber optic             No           No   \n",
       "\n",
       "     DeviceProtection TechSupport StreamingTV StreamingMovies        Contract  \\\n",
       "2                  No          No          No              No  Month-to-month   \n",
       "4                  No          No          No              No  Month-to-month   \n",
       "5                 Yes          No         Yes             Yes  Month-to-month   \n",
       "8                 Yes         Yes         Yes             Yes  Month-to-month   \n",
       "13                Yes          No         Yes             Yes  Month-to-month   \n",
       "...               ...         ...         ...             ...             ...   \n",
       "7021               No         Yes         Yes              No        One year   \n",
       "7026               No          No          No              No  Month-to-month   \n",
       "7032               No          No          No              No  Month-to-month   \n",
       "7034              Yes          No         Yes              No  Month-to-month   \n",
       "7041               No          No          No              No  Month-to-month   \n",
       "\n",
       "     PaperlessBilling              PaymentMethod  MonthlyCharges  \\\n",
       "2                 Yes               Mailed check           53.85   \n",
       "4                 Yes           Electronic check           70.70   \n",
       "5                 Yes           Electronic check           99.65   \n",
       "8                 Yes           Electronic check          104.80   \n",
       "13                Yes  Bank transfer (automatic)          103.70   \n",
       "...               ...                        ...             ...   \n",
       "7021              Yes           Electronic check           59.80   \n",
       "7026              Yes  Bank transfer (automatic)           44.20   \n",
       "7032              Yes           Electronic check           75.75   \n",
       "7034              Yes    Credit card (automatic)          102.95   \n",
       "7041              Yes               Mailed check           74.40   \n",
       "\n",
       "      TotalCharges Churn  \n",
       "2           108.15   Yes  \n",
       "4           151.65   Yes  \n",
       "5           820.50   Yes  \n",
       "8          3046.05   Yes  \n",
       "13         5036.30   Yes  \n",
       "...            ...   ...  \n",
       "7021        727.80   Yes  \n",
       "7026        403.35   Yes  \n",
       "7032         75.75   Yes  \n",
       "7034       6886.25   Yes  \n",
       "7041        306.60   Yes  \n",
       "\n",
       "[1869 rows x 20 columns]"
      ]
     },
     "execution_count": 60,
     "metadata": {},
     "output_type": "execute_result"
    }
   ],
   "source": [
    "df1[df1.Churn=='Yes'] # getting Churn=='Yes' rows"
   ]
  },
  {
   "cell_type": "markdown",
   "metadata": {},
   "source": [
    "# Step-3: Data Visualization"
   ]
  },
  {
   "cell_type": "code",
   "execution_count": 61,
   "metadata": {},
   "outputs": [
    {
     "data": {
      "text/plain": [
       "<matplotlib.legend.Legend at 0x19671cc75b0>"
      ]
     },
     "execution_count": 61,
     "metadata": {},
     "output_type": "execute_result"
    },
    {
     "data": {
      "image/png": "[encoded data removed]",
      "text/plain": [
       "<Figure size 720x432 with 1 Axes>"
      ]
     },
     "metadata": {
      "needs_background": "light"
     },
     "output_type": "display_data"
    }
   ],
   "source": [
    "tenure_churn_no = df1[df1.Churn=='No'].tenure\n",
    "tenure_churn_yes = df1[df1.Churn=='Yes'].tenure\n",
    "\n",
    "plt.figure(figsize=(10,6))\n",
    "sns.set(style='white')\n",
    "plt.hist([tenure_churn_yes, tenure_churn_no], rwidth=0.80, color=['c','hotpink'],label=['Churn: Yes','Churn: No'])\n",
    "plt.xlabel(\"tenure\")\n",
    "plt.ylabel(\"Number Of Customers\")\n",
    "plt.title(\"Customer Churn Prediction Visualiztion\")\n",
    "plt.legend()"
   ]
  },
  {
   "cell_type": "code",
   "execution_count": 62,
   "metadata": {},
   "outputs": [
    {
     "data": {
      "text/plain": [
       "<matplotlib.legend.Legend at 0x19672111fc0>"
      ]
     },
     "execution_count": 62,
     "metadata": {},
     "output_type": "execute_result"
    },
    {
     "data": {
      "image/png": "[encoded data removed]",
      "text/plain": [
       "<Figure size 720x432 with 1 Axes>"
      ]
     },
     "metadata": {},
     "output_type": "display_data"
    }
   ],
   "source": [
    "mc_churn_no = df1[df1.Churn=='No'].MonthlyCharges      \n",
    "mc_churn_yes = df1[df1.Churn=='Yes'].MonthlyCharges      \n",
    "\n",
    "\n",
    "plt.figure(figsize=(10,6))\n",
    "sns.set(style='white')\n",
    "plt.hist([mc_churn_yes, mc_churn_no], rwidth=0.60, color=['orange','blue'],label=['Churn: Yes','Churn: No'])\n",
    "plt.xlabel(\"Monthly Charges\")\n",
    "plt.ylabel(\"Number Of Customers\")\n",
    "plt.title(\"Customer Churn Prediction Visualiztion\")\n",
    "plt.legend()"
   ]
  },
  {
   "cell_type": "markdown",
   "metadata": {},
   "source": [
    "| Columns are yes, no etc. Let's print unique values in object columns to see data values"
   ]
  },
  {
   "cell_type": "code",
   "execution_count": 63,
   "metadata": {},
   "outputs": [],
   "source": [
    "def unique_col_values(df):\n",
    "       for column in df:\n",
    "            if df[column].dtypes=='object':\n",
    "                print(f'{column}: {df[column].unique()}') "
   ]
  },
  {
   "cell_type": "code",
   "execution_count": 64,
   "metadata": {},
   "outputs": [
    {
     "name": "stdout",
     "output_type": "stream",
     "text": [
      "gender: ['Female' 'Male']\n",
      "Partner: ['Yes' 'No']\n",
      "Dependents: ['No' 'Yes']\n",
      "PhoneService: ['No' 'Yes']\n",
      "MultipleLines: ['No phone service' 'No' 'Yes']\n",
      "InternetService: ['DSL' 'Fiber optic' 'No']\n",
      "OnlineSecurity: ['No' 'Yes' 'No internet service']\n",
      "OnlineBackup: ['Yes' 'No' 'No internet service']\n",
      "DeviceProtection: ['No' 'Yes' 'No internet service']\n",
      "TechSupport: ['No' 'Yes' 'No internet service']\n",
      "StreamingTV: ['No' 'Yes' 'No internet service']\n",
      "StreamingMovies: ['No' 'Yes' 'No internet service']\n",
      "Contract: ['Month-to-month' 'One year' 'Two year']\n",
      "PaperlessBilling: ['Yes' 'No']\n",
      "PaymentMethod: ['Electronic check' 'Mailed check' 'Bank transfer (automatic)'\n",
      " 'Credit card (automatic)']\n",
      "Churn: ['No' 'Yes']\n"
     ]
    }
   ],
   "source": [
    "unique_col_values(df1)"
   ]
  },
  {
   "cell_type": "markdown",
   "metadata": {},
   "source": [
    "| Some of the columns have no internet service or no phone service, that can be replaced with a simple No"
   ]
  },
  {
   "cell_type": "code",
   "execution_count": 65,
   "metadata": {},
   "outputs": [],
   "source": [
    "df1.replace('No internet service','No',inplace=True)\n",
    "df1.replace('No phone service','No',inplace=True)"
   ]
  },
  {
   "cell_type": "code",
   "execution_count": 66,
   "metadata": {},
   "outputs": [
    {
     "name": "stdout",
     "output_type": "stream",
     "text": [
      "gender: ['Female' 'Male']\n",
      "Partner: ['Yes' 'No']\n",
      "Dependents: ['No' 'Yes']\n",
      "PhoneService: ['No' 'Yes']\n",
      "MultipleLines: ['No' 'Yes']\n",
      "InternetService: ['DSL' 'Fiber optic' 'No']\n",
      "OnlineSecurity: ['No' 'Yes']\n",
      "OnlineBackup: ['Yes' 'No']\n",
      "DeviceProtection: ['No' 'Yes']\n",
      "TechSupport: ['No' 'Yes']\n",
      "StreamingTV: ['No' 'Yes']\n",
      "StreamingMovies: ['No' 'Yes']\n",
      "Contract: ['Month-to-month' 'One year' 'Two year']\n",
      "PaperlessBilling: ['Yes' 'No']\n",
      "PaymentMethod: ['Electronic check' 'Mailed check' 'Bank transfer (automatic)'\n",
      " 'Credit card (automatic)']\n",
      "Churn: ['No' 'Yes']\n"
     ]
    }
   ],
   "source": [
    "unique_col_values(df1)"
   ]
  },
  {
   "cell_type": "markdown",
   "metadata": {},
   "source": [
    "    | Convert Yes and No to 1 or 0"
   ]
  },
  {
   "cell_type": "code",
   "execution_count": 67,
   "metadata": {},
   "outputs": [],
   "source": [
    "yes_no_columns = ['Partner','Dependents','PhoneService','MultipleLines','OnlineSecurity','OnlineBackup',\n",
    "                  'DeviceProtection','TechSupport','StreamingTV','StreamingMovies','PaperlessBilling','Churn']\n",
    "for col in yes_no_columns:\n",
    "    df1[col].replace({'Yes': 1,'No': 0},inplace=True)"
   ]
  },
  {
   "cell_type": "code",
   "execution_count": 68,
   "metadata": {},
   "outputs": [],
   "source": [
    "df1['gender'].replace({'Female':1,'Male':0},inplace=True)"
   ]
  },
  {
   "cell_type": "code",
   "execution_count": 69,
   "metadata": {},
   "outputs": [
    {
     "data": {
      "text/plain": [
       "array([1, 0], dtype=int64)"
      ]
     },
     "execution_count": 69,
     "metadata": {},
     "output_type": "execute_result"
    }
   ],
   "source": [
    "df1.gender.unique()"
   ]
  },
  {
   "cell_type": "code",
   "execution_count": 70,
   "metadata": {},
   "outputs": [
    {
     "name": "stdout",
     "output_type": "stream",
     "text": [
      "gender: [1 0]\n",
      "SeniorCitizen: [0 1]\n",
      "Partner: [1 0]\n",
      "Dependents: [0 1]\n",
      "tenure: [ 1 34  2 45  8 22 10 28 62 13 16 58 49 25 69 52 71 21 12 30 47 72 17 27\n",
      "  5 46 11 70 63 43 15 60 18 66  9  3 31 50 64 56  7 42 35 48 29 65 38 68\n",
      " 32 55 37 36 41  6  4 33 67 23 57 61 14 20 53 40 59 24 44 19 54 51 26 39]\n",
      "PhoneService: [0 1]\n",
      "MultipleLines: [0 1]\n",
      "InternetService: ['DSL' 'Fiber optic' 'No']\n",
      "OnlineSecurity: [0 1]\n",
      "OnlineBackup: [1 0]\n",
      "DeviceProtection: [0 1]\n",
      "TechSupport: [0 1]\n",
      "StreamingTV: [0 1]\n",
      "StreamingMovies: [0 1]\n",
      "Contract: ['Month-to-month' 'One year' 'Two year']\n",
      "PaperlessBilling: [1 0]\n",
      "PaymentMethod: ['Electronic check' 'Mailed check' 'Bank transfer (automatic)'\n",
      " 'Credit card (automatic)']\n",
      "MonthlyCharges: [29.85 56.95 53.85 ... 63.1  44.2  78.7 ]\n",
      "TotalCharges: [  29.85 1889.5   108.15 ...  346.45  306.6  6844.5 ]\n",
      "Churn: [0 1]\n"
     ]
    }
   ],
   "source": [
    "for column in df1:\n",
    "    print(f'{column}: {df1[column].unique()}') "
   ]
  },
  {
   "cell_type": "markdown",
   "metadata": {},
   "source": [
    "    | One hot encoding for categorical columns"
   ]
  },
  {
   "cell_type": "code",
   "execution_count": 71,
   "metadata": {},
   "outputs": [
    {
     "data": {
      "text/plain": [
       "gender                                       int64\n",
       "SeniorCitizen                                int64\n",
       "Partner                                      int64\n",
       "Dependents                                   int64\n",
       "tenure                                       int64\n",
       "PhoneService                                 int64\n",
       "MultipleLines                                int64\n",
       "OnlineSecurity                               int64\n",
       "OnlineBackup                                 int64\n",
       "DeviceProtection                             int64\n",
       "TechSupport                                  int64\n",
       "StreamingTV                                  int64\n",
       "StreamingMovies                              int64\n",
       "PaperlessBilling                             int64\n",
       "MonthlyCharges                             float64\n",
       "TotalCharges                               float64\n",
       "Churn                                        int64\n",
       "InternetService_DSL                          uint8\n",
       "InternetService_Fiber optic                  uint8\n",
       "InternetService_No                           uint8\n",
       "Contract_Month-to-month                      uint8\n",
       "Contract_One year                            uint8\n",
       "Contract_Two year                            uint8\n",
       "PaymentMethod_Bank transfer (automatic)      uint8\n",
       "PaymentMethod_Credit card (automatic)        uint8\n",
       "PaymentMethod_Electronic check               uint8\n",
       "PaymentMethod_Mailed check                   uint8\n",
       "dtype: object"
      ]
     },
     "execution_count": 71,
     "metadata": {},
     "output_type": "execute_result"
    }
   ],
   "source": [
    "df2 = pd.get_dummies(data=df1, columns=['InternetService','Contract','PaymentMethod'])\n",
    "df2.dtypes"
   ]
  },
  {
   "cell_type": "code",
   "execution_count": 72,
   "metadata": {},
   "outputs": [
    {
     "data": {
      "text/plain": [
       "(7032, 27)"
      ]
     },
     "execution_count": 72,
     "metadata": {},
     "output_type": "execute_result"
    }
   ],
   "source": [
    "df2.shape"
   ]
  },
  {
   "cell_type": "code",
   "execution_count": 73,
   "metadata": {},
   "outputs": [
    {
     "name": "stdout",
     "output_type": "stream",
     "text": [
      "gender: [1 0]\n",
      "SeniorCitizen: [0 1]\n",
      "Partner: [1 0]\n",
      "Dependents: [0 1]\n",
      "tenure: [ 1 34  2 45  8 22 10 28 62 13 16 58 49 25 69 52 71 21 12 30 47 72 17 27\n",
      "  5 46 11 70 63 43 15 60 18 66  9  3 31 50 64 56  7 42 35 48 29 65 38 68\n",
      " 32 55 37 36 41  6  4 33 67 23 57 61 14 20 53 40 59 24 44 19 54 51 26 39]\n",
      "PhoneService: [0 1]\n",
      "MultipleLines: [0 1]\n",
      "OnlineSecurity: [0 1]\n",
      "OnlineBackup: [1 0]\n",
      "DeviceProtection: [0 1]\n",
      "TechSupport: [0 1]\n",
      "StreamingTV: [0 1]\n",
      "StreamingMovies: [0 1]\n",
      "PaperlessBilling: [1 0]\n",
      "MonthlyCharges: [29.85 56.95 53.85 ... 63.1  44.2  78.7 ]\n",
      "TotalCharges: [  29.85 1889.5   108.15 ...  346.45  306.6  6844.5 ]\n",
      "Churn: [0 1]\n",
      "InternetService_DSL: [1 0]\n",
      "InternetService_Fiber optic: [0 1]\n",
      "InternetService_No: [0 1]\n",
      "Contract_Month-to-month: [1 0]\n",
      "Contract_One year: [0 1]\n",
      "Contract_Two year: [0 1]\n",
      "PaymentMethod_Bank transfer (automatic): [0 1]\n",
      "PaymentMethod_Credit card (automatic): [0 1]\n",
      "PaymentMethod_Electronic check: [1 0]\n",
      "PaymentMethod_Mailed check: [0 1]\n"
     ]
    }
   ],
   "source": [
    "for column in df2:\n",
    "    print(f'{column}: {df2[column].unique()}') "
   ]
  },
  {
   "cell_type": "markdown",
   "metadata": {},
   "source": [
    "# Scaling "
   ]
  },
  {
   "cell_type": "code",
   "execution_count": 74,
   "metadata": {},
   "outputs": [],
   "source": [
    "from sklearn.preprocessing import MinMaxScaler\n",
    "scaler = MinMaxScaler()"
   ]
  },
  {
   "cell_type": "code",
   "execution_count": 75,
   "metadata": {},
   "outputs": [],
   "source": [
    "cols_to_scale = ['tenure','MonthlyCharges','TotalCharges']\n",
    "\n",
    "df2[cols_to_scale] = scaler.fit_transform(df2[cols_to_scale])"
   ]
  },
  {
   "cell_type": "markdown",
   "metadata": {},
   "source": [
    "# Train test split"
   ]
  },
  {
   "cell_type": "code",
   "execution_count": 76,
   "metadata": {},
   "outputs": [
    {
     "data": {
      "text/html": [
       "<div>\n",
       "<style scoped>\n",
       "    .dataframe tbody tr th:only-of-type {\n",
       "        vertical-align: middle;\n",
       "    }\n",
       "\n",
       "    .dataframe tbody tr th {\n",
       "        vertical-align: top;\n",
       "    }\n",
       "\n",
       "    .dataframe thead th {\n",
       "        text-align: right;\n",
       "    }\n",
       "</style>\n",
       "<table border=\"1\" class=\"dataframe\">\n",
       "  <thead>\n",
       "    <tr style=\"text-align: right;\">\n",
       "      <th></th>\n",
       "      <th>gender</th>\n",
       "      <th>SeniorCitizen</th>\n",
       "      <th>Partner</th>\n",
       "      <th>Dependents</th>\n",
       "      <th>tenure</th>\n",
       "      <th>PhoneService</th>\n",
       "      <th>MultipleLines</th>\n",
       "      <th>OnlineSecurity</th>\n",
       "      <th>OnlineBackup</th>\n",
       "      <th>DeviceProtection</th>\n",
       "      <th>...</th>\n",
       "      <th>InternetService_DSL</th>\n",
       "      <th>InternetService_Fiber optic</th>\n",
       "      <th>InternetService_No</th>\n",
       "      <th>Contract_Month-to-month</th>\n",
       "      <th>Contract_One year</th>\n",
       "      <th>Contract_Two year</th>\n",
       "      <th>PaymentMethod_Bank transfer (automatic)</th>\n",
       "      <th>PaymentMethod_Credit card (automatic)</th>\n",
       "      <th>PaymentMethod_Electronic check</th>\n",
       "      <th>PaymentMethod_Mailed check</th>\n",
       "    </tr>\n",
       "  </thead>\n",
       "  <tbody>\n",
       "    <tr>\n",
       "      <th>0</th>\n",
       "      <td>1</td>\n",
       "      <td>0</td>\n",
       "      <td>1</td>\n",
       "      <td>0</td>\n",
       "      <td>0.000000</td>\n",
       "      <td>0</td>\n",
       "      <td>0</td>\n",
       "      <td>0</td>\n",
       "      <td>1</td>\n",
       "      <td>0</td>\n",
       "      <td>...</td>\n",
       "      <td>1</td>\n",
       "      <td>0</td>\n",
       "      <td>0</td>\n",
       "      <td>1</td>\n",
       "      <td>0</td>\n",
       "      <td>0</td>\n",
       "      <td>0</td>\n",
       "      <td>0</td>\n",
       "      <td>1</td>\n",
       "      <td>0</td>\n",
       "    </tr>\n",
       "    <tr>\n",
       "      <th>1</th>\n",
       "      <td>0</td>\n",
       "      <td>0</td>\n",
       "      <td>0</td>\n",
       "      <td>0</td>\n",
       "      <td>0.464789</td>\n",
       "      <td>1</td>\n",
       "      <td>0</td>\n",
       "      <td>1</td>\n",
       "      <td>0</td>\n",
       "      <td>1</td>\n",
       "      <td>...</td>\n",
       "      <td>1</td>\n",
       "      <td>0</td>\n",
       "      <td>0</td>\n",
       "      <td>0</td>\n",
       "      <td>1</td>\n",
       "      <td>0</td>\n",
       "      <td>0</td>\n",
       "      <td>0</td>\n",
       "      <td>0</td>\n",
       "      <td>1</td>\n",
       "    </tr>\n",
       "    <tr>\n",
       "      <th>2</th>\n",
       "      <td>0</td>\n",
       "      <td>0</td>\n",
       "      <td>0</td>\n",
       "      <td>0</td>\n",
       "      <td>0.014085</td>\n",
       "      <td>1</td>\n",
       "      <td>0</td>\n",
       "      <td>1</td>\n",
       "      <td>1</td>\n",
       "      <td>0</td>\n",
       "      <td>...</td>\n",
       "      <td>1</td>\n",
       "      <td>0</td>\n",
       "      <td>0</td>\n",
       "      <td>1</td>\n",
       "      <td>0</td>\n",
       "      <td>0</td>\n",
       "      <td>0</td>\n",
       "      <td>0</td>\n",
       "      <td>0</td>\n",
       "      <td>1</td>\n",
       "    </tr>\n",
       "    <tr>\n",
       "      <th>3</th>\n",
       "      <td>0</td>\n",
       "      <td>0</td>\n",
       "      <td>0</td>\n",
       "      <td>0</td>\n",
       "      <td>0.619718</td>\n",
       "      <td>0</td>\n",
       "      <td>0</td>\n",
       "      <td>1</td>\n",
       "      <td>0</td>\n",
       "      <td>1</td>\n",
       "      <td>...</td>\n",
       "      <td>1</td>\n",
       "      <td>0</td>\n",
       "      <td>0</td>\n",
       "      <td>0</td>\n",
       "      <td>1</td>\n",
       "      <td>0</td>\n",
       "      <td>1</td>\n",
       "      <td>0</td>\n",
       "      <td>0</td>\n",
       "      <td>0</td>\n",
       "    </tr>\n",
       "    <tr>\n",
       "      <th>4</th>\n",
       "      <td>1</td>\n",
       "      <td>0</td>\n",
       "      <td>0</td>\n",
       "      <td>0</td>\n",
       "      <td>0.014085</td>\n",
       "      <td>1</td>\n",
       "      <td>0</td>\n",
       "      <td>0</td>\n",
       "      <td>0</td>\n",
       "      <td>0</td>\n",
       "      <td>...</td>\n",
       "      <td>0</td>\n",
       "      <td>1</td>\n",
       "      <td>0</td>\n",
       "      <td>1</td>\n",
       "      <td>0</td>\n",
       "      <td>0</td>\n",
       "      <td>0</td>\n",
       "      <td>0</td>\n",
       "      <td>1</td>\n",
       "      <td>0</td>\n",
       "    </tr>\n",
       "    <tr>\n",
       "      <th>...</th>\n",
       "      <td>...</td>\n",
       "      <td>...</td>\n",
       "      <td>...</td>\n",
       "      <td>...</td>\n",
       "      <td>...</td>\n",
       "      <td>...</td>\n",
       "      <td>...</td>\n",
       "      <td>...</td>\n",
       "      <td>...</td>\n",
       "      <td>...</td>\n",
       "      <td>...</td>\n",
       "      <td>...</td>\n",
       "      <td>...</td>\n",
       "      <td>...</td>\n",
       "      <td>...</td>\n",
       "      <td>...</td>\n",
       "      <td>...</td>\n",
       "      <td>...</td>\n",
       "      <td>...</td>\n",
       "      <td>...</td>\n",
       "      <td>...</td>\n",
       "    </tr>\n",
       "    <tr>\n",
       "      <th>7038</th>\n",
       "      <td>0</td>\n",
       "      <td>0</td>\n",
       "      <td>1</td>\n",
       "      <td>1</td>\n",
       "      <td>0.323944</td>\n",
       "      <td>1</td>\n",
       "      <td>1</td>\n",
       "      <td>1</td>\n",
       "      <td>0</td>\n",
       "      <td>1</td>\n",
       "      <td>...</td>\n",
       "      <td>1</td>\n",
       "      <td>0</td>\n",
       "      <td>0</td>\n",
       "      <td>0</td>\n",
       "      <td>1</td>\n",
       "      <td>0</td>\n",
       "      <td>0</td>\n",
       "      <td>0</td>\n",
       "      <td>0</td>\n",
       "      <td>1</td>\n",
       "    </tr>\n",
       "    <tr>\n",
       "      <th>7039</th>\n",
       "      <td>1</td>\n",
       "      <td>0</td>\n",
       "      <td>1</td>\n",
       "      <td>1</td>\n",
       "      <td>1.000000</td>\n",
       "      <td>1</td>\n",
       "      <td>1</td>\n",
       "      <td>0</td>\n",
       "      <td>1</td>\n",
       "      <td>1</td>\n",
       "      <td>...</td>\n",
       "      <td>0</td>\n",
       "      <td>1</td>\n",
       "      <td>0</td>\n",
       "      <td>0</td>\n",
       "      <td>1</td>\n",
       "      <td>0</td>\n",
       "      <td>0</td>\n",
       "      <td>1</td>\n",
       "      <td>0</td>\n",
       "      <td>0</td>\n",
       "    </tr>\n",
       "    <tr>\n",
       "      <th>7040</th>\n",
       "      <td>1</td>\n",
       "      <td>0</td>\n",
       "      <td>1</td>\n",
       "      <td>1</td>\n",
       "      <td>0.140845</td>\n",
       "      <td>0</td>\n",
       "      <td>0</td>\n",
       "      <td>1</td>\n",
       "      <td>0</td>\n",
       "      <td>0</td>\n",
       "      <td>...</td>\n",
       "      <td>1</td>\n",
       "      <td>0</td>\n",
       "      <td>0</td>\n",
       "      <td>1</td>\n",
       "      <td>0</td>\n",
       "      <td>0</td>\n",
       "      <td>0</td>\n",
       "      <td>0</td>\n",
       "      <td>1</td>\n",
       "      <td>0</td>\n",
       "    </tr>\n",
       "    <tr>\n",
       "      <th>7041</th>\n",
       "      <td>0</td>\n",
       "      <td>1</td>\n",
       "      <td>1</td>\n",
       "      <td>0</td>\n",
       "      <td>0.042254</td>\n",
       "      <td>1</td>\n",
       "      <td>1</td>\n",
       "      <td>0</td>\n",
       "      <td>0</td>\n",
       "      <td>0</td>\n",
       "      <td>...</td>\n",
       "      <td>0</td>\n",
       "      <td>1</td>\n",
       "      <td>0</td>\n",
       "      <td>1</td>\n",
       "      <td>0</td>\n",
       "      <td>0</td>\n",
       "      <td>0</td>\n",
       "      <td>0</td>\n",
       "      <td>0</td>\n",
       "      <td>1</td>\n",
       "    </tr>\n",
       "    <tr>\n",
       "      <th>7042</th>\n",
       "      <td>0</td>\n",
       "      <td>0</td>\n",
       "      <td>0</td>\n",
       "      <td>0</td>\n",
       "      <td>0.915493</td>\n",
       "      <td>1</td>\n",
       "      <td>0</td>\n",
       "      <td>1</td>\n",
       "      <td>0</td>\n",
       "      <td>1</td>\n",
       "      <td>...</td>\n",
       "      <td>0</td>\n",
       "      <td>1</td>\n",
       "      <td>0</td>\n",
       "      <td>0</td>\n",
       "      <td>0</td>\n",
       "      <td>1</td>\n",
       "      <td>1</td>\n",
       "      <td>0</td>\n",
       "      <td>0</td>\n",
       "      <td>0</td>\n",
       "    </tr>\n",
       "  </tbody>\n",
       "</table>\n",
       "<p>7032 rows × 26 columns</p>\n",
       "</div>"
      ],
      "text/plain": [
       "      gender  SeniorCitizen  Partner  Dependents    tenure  PhoneService  \\\n",
       "0          1              0        1           0  0.000000             0   \n",
       "1          0              0        0           0  0.464789             1   \n",
       "2          0              0        0           0  0.014085             1   \n",
       "3          0              0        0           0  0.619718             0   \n",
       "4          1              0        0           0  0.014085             1   \n",
       "...      ...            ...      ...         ...       ...           ...   \n",
       "7038       0              0        1           1  0.323944             1   \n",
       "7039       1              0        1           1  1.000000             1   \n",
       "7040       1              0        1           1  0.140845             0   \n",
       "7041       0              1        1           0  0.042254             1   \n",
       "7042       0              0        0           0  0.915493             1   \n",
       "\n",
       "      MultipleLines  OnlineSecurity  OnlineBackup  DeviceProtection  ...  \\\n",
       "0                 0               0             1                 0  ...   \n",
       "1                 0               1             0                 1  ...   \n",
       "2                 0               1             1                 0  ...   \n",
       "3                 0               1             0                 1  ...   \n",
       "4                 0               0             0                 0  ...   \n",
       "...             ...             ...           ...               ...  ...   \n",
       "7038              1               1             0                 1  ...   \n",
       "7039              1               0             1                 1  ...   \n",
       "7040              0               1             0                 0  ...   \n",
       "7041              1               0             0                 0  ...   \n",
       "7042              0               1             0                 1  ...   \n",
       "\n",
       "      InternetService_DSL  InternetService_Fiber optic  InternetService_No  \\\n",
       "0                       1                            0                   0   \n",
       "1                       1                            0                   0   \n",
       "2                       1                            0                   0   \n",
       "3                       1                            0                   0   \n",
       "4                       0                            1                   0   \n",
       "...                   ...                          ...                 ...   \n",
       "7038                    1                            0                   0   \n",
       "7039                    0                            1                   0   \n",
       "7040                    1                            0                   0   \n",
       "7041                    0                            1                   0   \n",
       "7042                    0                            1                   0   \n",
       "\n",
       "      Contract_Month-to-month  Contract_One year  Contract_Two year  \\\n",
       "0                           1                  0                  0   \n",
       "1                           0                  1                  0   \n",
       "2                           1                  0                  0   \n",
       "3                           0                  1                  0   \n",
       "4                           1                  0                  0   \n",
       "...                       ...                ...                ...   \n",
       "7038                        0                  1                  0   \n",
       "7039                        0                  1                  0   \n",
       "7040                        1                  0                  0   \n",
       "7041                        1                  0                  0   \n",
       "7042                        0                  0                  1   \n",
       "\n",
       "      PaymentMethod_Bank transfer (automatic)  \\\n",
       "0                                           0   \n",
       "1                                           0   \n",
       "2                                           0   \n",
       "3                                           1   \n",
       "4                                           0   \n",
       "...                                       ...   \n",
       "7038                                        0   \n",
       "7039                                        0   \n",
       "7040                                        0   \n",
       "7041                                        0   \n",
       "7042                                        1   \n",
       "\n",
       "      PaymentMethod_Credit card (automatic)  PaymentMethod_Electronic check  \\\n",
       "0                                         0                               1   \n",
       "1                                         0                               0   \n",
       "2                                         0                               0   \n",
       "3                                         0                               0   \n",
       "4                                         0                               1   \n",
       "...                                     ...                             ...   \n",
       "7038                                      0                               0   \n",
       "7039                                      1                               0   \n",
       "7040                                      0                               1   \n",
       "7041                                      0                               0   \n",
       "7042                                      0                               0   \n",
       "\n",
       "      PaymentMethod_Mailed check  \n",
       "0                              0  \n",
       "1                              1  \n",
       "2                              1  \n",
       "3                              0  \n",
       "4                              0  \n",
       "...                          ...  \n",
       "7038                           1  \n",
       "7039                           0  \n",
       "7040                           0  \n",
       "7041                           1  \n",
       "7042                           0  \n",
       "\n",
       "[7032 rows x 26 columns]"
      ]
     },
     "execution_count": 76,
     "metadata": {},
     "output_type": "execute_result"
    }
   ],
   "source": [
    "X = df2.drop('Churn',axis='columns')\n",
    "X"
   ]
  },
  {
   "cell_type": "code",
   "execution_count": 77,
   "metadata": {},
   "outputs": [
    {
     "data": {
      "text/plain": [
       "dtype('float32')"
      ]
     },
     "execution_count": 77,
     "metadata": {},
     "output_type": "execute_result"
    }
   ],
   "source": [
    "y = testLabels = df2.Churn.astype(np.float32) # astype(np.float32) changes the data types\n",
    "y.dtypes"
   ]
  },
  {
   "cell_type": "code",
   "execution_count": 78,
   "metadata": {},
   "outputs": [],
   "source": [
    "from sklearn.model_selection import train_test_split"
   ]
  },
  {
   "cell_type": "code",
   "execution_count": 79,
   "metadata": {},
   "outputs": [],
   "source": [
    "X_train, X_test, y_train, y_test = train_test_split(X, y, test_size=0.2, random_state=15, stratify=y)\n"
   ]
  },
  {
   "cell_type": "markdown",
   "metadata": {},
   "source": [
    "    | Note:\n",
    "\n",
    "This stratify parameter makes a split so that the proportion of values in the sample produced will be the same as the proportion of values provided to parameter stratify.\n",
    "\n",
    "For example, if variable y is a binary categorical variable with values 0 and 1 and there are 25% of zeros and 75% of ones, stratify=y will make sure that your random split has 25% of 0's and 75% of 1's."
   ]
  },
  {
   "cell_type": "code",
   "execution_count": 80,
   "metadata": {},
   "outputs": [
    {
     "data": {
      "text/plain": [
       "(5625, 26)"
      ]
     },
     "execution_count": 80,
     "metadata": {},
     "output_type": "execute_result"
    }
   ],
   "source": [
    "X_train.shape"
   ]
  },
  {
   "cell_type": "code",
   "execution_count": 81,
   "metadata": {},
   "outputs": [
    {
     "data": {
      "text/plain": [
       "(1407, 26)"
      ]
     },
     "execution_count": 81,
     "metadata": {},
     "output_type": "execute_result"
    }
   ],
   "source": [
    "X_test.shape"
   ]
  },
  {
   "cell_type": "code",
   "execution_count": 82,
   "metadata": {},
   "outputs": [
    {
     "data": {
      "text/plain": [
       "0.0    4130\n",
       "1.0    1495\n",
       "Name: Churn, dtype: int64"
      ]
     },
     "execution_count": 82,
     "metadata": {},
     "output_type": "execute_result"
    }
   ],
   "source": [
    "y_train.value_counts()"
   ]
  },
  {
   "cell_type": "markdown",
   "metadata": {},
   "source": [
    "# Steps4: Build a model (ANN) in tensorflow/keras"
   ]
  },
  {
   "cell_type": "code",
   "execution_count": 86,
   "metadata": {},
   "outputs": [],
   "source": [
    "from sklearn.metrics import confusion_matrix , classification_report\n",
    "from tensorflow_addons import losses\n",
    "import tensorflow as tf\n",
    "from tensorflow import keras"
   ]
  },
  {
   "cell_type": "markdown",
   "metadata": {},
   "source": [
    "    | Note: \n",
    "TensorFlow Addons is a repository of contributions that conform to well- established API patterns, but implement new functionality not available in core TensorFlow. TensorFlow natively supports a large number of operators, layers, metrics, losses, and optimizers. However, in a fast moving field like ML, there are many interesting new developments that cannot be integrated into core TensorFlow (because their broad applicability is not yet clear, or it is mostly used by a smaller subset of the community)."
   ]
  },
  {
   "cell_type": "code",
   "execution_count": 87,
   "metadata": {},
   "outputs": [],
   "source": [
    "def ANN(X_train, y_train, X_test, y_test, loss, weights):\n",
    "    model = keras.Sequential([\n",
    "        keras.layers.Dense(26, input_dim=26, activation='relu'),\n",
    "        keras.layers.Dense(15, activation='relu'),\n",
    "        keras.layers.Dense(1, activation='sigmoid')\n",
    "    ])\n",
    "\n",
    "    model.compile(optimizer='adam', loss=loss, metrics=['accuracy'])\n",
    "\n",
    "        \n",
    "    if weights == -1:\n",
    "        model.fit(X_train, y_train, epochs=100)\n",
    "    else:\n",
    "        model.fit(X_train, y_train, epochs=100, class_weight = weights)\n",
    "    \n",
    "    print(model.evaluate(X_test, y_test))\n",
    "\n",
    "    y_preds = model.predict(X_test)\n",
    "    y_preds = np.round(y_preds)\n",
    "    \n",
    "    print(\"Classification Report: \\n\", classification_report(y_test, y_preds))\n",
    "    \n",
    "    return y_preds"
   ]
  },
  {
   "cell_type": "code",
   "execution_count": 88,
   "metadata": {},
   "outputs": [
    {
     "name": "stdout",
     "output_type": "stream",
     "text": [
      "Epoch 1/100\n",
      "176/176 [==============================] - 2s 5ms/step - loss: 0.4848 - accuracy: 0.7511\n",
      "Epoch 2/100\n",
      "176/176 [==============================] - 1s 5ms/step - loss: 0.4347 - accuracy: 0.7844\n",
      "Epoch 3/100\n",
      "176/176 [==============================] - 1s 5ms/step - loss: 0.4283 - accuracy: 0.7924\n",
      "Epoch 4/100\n",
      "176/176 [==============================] - 1s 4ms/step - loss: 0.4224 - accuracy: 0.7968\n",
      "Epoch 5/100\n",
      "176/176 [==============================] - 1s 4ms/step - loss: 0.4199 - accuracy: 0.7991\n",
      "Epoch 6/100\n",
      "176/176 [==============================] - 1s 5ms/step - loss: 0.4150 - accuracy: 0.8043\n",
      "Epoch 7/100\n",
      "176/176 [==============================] - 1s 5ms/step - loss: 0.4142 - accuracy: 0.8076\n",
      "Epoch 8/100\n",
      "176/176 [==============================] - 1s 5ms/step - loss: 0.4119 - accuracy: 0.8076\n",
      "Epoch 9/100\n",
      "176/176 [==============================] - 1s 4ms/step - loss: 0.4092 - accuracy: 0.8064\n",
      "Epoch 10/100\n",
      "176/176 [==============================] - 1s 4ms/step - loss: 0.4079 - accuracy: 0.8092\n",
      "Epoch 11/100\n",
      "176/176 [==============================] - 1s 5ms/step - loss: 0.4058 - accuracy: 0.8121\n",
      "Epoch 12/100\n",
      "176/176 [==============================] - 1s 4ms/step - loss: 0.4043 - accuracy: 0.8107\n",
      "Epoch 13/100\n",
      "176/176 [==============================] - 1s 5ms/step - loss: 0.4030 - accuracy: 0.8075\n",
      "Epoch 14/100\n",
      "176/176 [==============================] - 1s 5ms/step - loss: 0.4012 - accuracy: 0.8085\n",
      "Epoch 15/100\n",
      "176/176 [==============================] - 1s 5ms/step - loss: 0.4018 - accuracy: 0.8085\n",
      "Epoch 16/100\n",
      "176/176 [==============================] - 1s 4ms/step - loss: 0.3998 - accuracy: 0.8119\n",
      "Epoch 17/100\n",
      "176/176 [==============================] - 1s 5ms/step - loss: 0.3982 - accuracy: 0.8124\n",
      "Epoch 18/100\n",
      "176/176 [==============================] - 1s 5ms/step - loss: 0.3966 - accuracy: 0.8112\n",
      "Epoch 19/100\n",
      "176/176 [==============================] - 1s 5ms/step - loss: 0.3964 - accuracy: 0.8128\n",
      "Epoch 20/100\n",
      "176/176 [==============================] - 1s 5ms/step - loss: 0.3947 - accuracy: 0.8130\n",
      "Epoch 21/100\n",
      "176/176 [==============================] - 1s 5ms/step - loss: 0.3937 - accuracy: 0.8146\n",
      "Epoch 22/100\n",
      "176/176 [==============================] - 1s 5ms/step - loss: 0.3917 - accuracy: 0.8148\n",
      "Epoch 23/100\n",
      "176/176 [==============================] - 1s 5ms/step - loss: 0.3915 - accuracy: 0.8148\n",
      "Epoch 24/100\n",
      "176/176 [==============================] - 1s 5ms/step - loss: 0.3906 - accuracy: 0.8162\n",
      "Epoch 25/100\n",
      "176/176 [==============================] - 1s 4ms/step - loss: 0.3885 - accuracy: 0.8162\n",
      "Epoch 26/100\n",
      "176/176 [==============================] - 1s 5ms/step - loss: 0.3882 - accuracy: 0.8181\n",
      "Epoch 27/100\n",
      "176/176 [==============================] - 1s 4ms/step - loss: 0.3881 - accuracy: 0.8174\n",
      "Epoch 28/100\n",
      "176/176 [==============================] - 1s 5ms/step - loss: 0.3864 - accuracy: 0.8156\n",
      "Epoch 29/100\n",
      "176/176 [==============================] - 1s 5ms/step - loss: 0.3865 - accuracy: 0.8185\n",
      "Epoch 30/100\n",
      "176/176 [==============================] - 1s 5ms/step - loss: 0.3848 - accuracy: 0.8190\n",
      "Epoch 31/100\n",
      "176/176 [==============================] - 1s 5ms/step - loss: 0.3849 - accuracy: 0.8176\n",
      "Epoch 32/100\n",
      "176/176 [==============================] - 1s 5ms/step - loss: 0.3837 - accuracy: 0.8178\n",
      "Epoch 33/100\n",
      "176/176 [==============================] - 1s 5ms/step - loss: 0.3829 - accuracy: 0.8162\n",
      "Epoch 34/100\n",
      "176/176 [==============================] - 1s 5ms/step - loss: 0.3829 - accuracy: 0.8210\n",
      "Epoch 35/100\n",
      "176/176 [==============================] - 1s 4ms/step - loss: 0.3824 - accuracy: 0.8192\n",
      "Epoch 36/100\n",
      "176/176 [==============================] - 1s 4ms/step - loss: 0.3807 - accuracy: 0.8204\n",
      "Epoch 37/100\n",
      "176/176 [==============================] - 1s 5ms/step - loss: 0.3808 - accuracy: 0.8219\n",
      "Epoch 38/100\n",
      "176/176 [==============================] - 1s 5ms/step - loss: 0.3796 - accuracy: 0.8228\n",
      "Epoch 39/100\n",
      "176/176 [==============================] - 1s 5ms/step - loss: 0.3787 - accuracy: 0.8224\n",
      "Epoch 40/100\n",
      "176/176 [==============================] - 1s 4ms/step - loss: 0.3789 - accuracy: 0.8197\n",
      "Epoch 41/100\n",
      "176/176 [==============================] - 1s 5ms/step - loss: 0.3771 - accuracy: 0.8226\n",
      "Epoch 42/100\n",
      "176/176 [==============================] - 1s 5ms/step - loss: 0.3763 - accuracy: 0.8224\n",
      "Epoch 43/100\n",
      "176/176 [==============================] - 1s 5ms/step - loss: 0.3767 - accuracy: 0.8233\n",
      "Epoch 44/100\n",
      "176/176 [==============================] - 1s 5ms/step - loss: 0.3760 - accuracy: 0.8213\n",
      "Epoch 45/100\n",
      "176/176 [==============================] - 1s 5ms/step - loss: 0.3755 - accuracy: 0.8238\n",
      "Epoch 46/100\n",
      "176/176 [==============================] - 1s 5ms/step - loss: 0.3742 - accuracy: 0.8240\n",
      "Epoch 47/100\n",
      "176/176 [==============================] - 1s 4ms/step - loss: 0.3741 - accuracy: 0.8256\n",
      "Epoch 48/100\n",
      "176/176 [==============================] - 1s 5ms/step - loss: 0.3734 - accuracy: 0.8219\n",
      "Epoch 49/100\n",
      "176/176 [==============================] - 1s 4ms/step - loss: 0.3720 - accuracy: 0.8247\n",
      "Epoch 50/100\n",
      "176/176 [==============================] - 1s 5ms/step - loss: 0.3718 - accuracy: 0.8260\n",
      "Epoch 51/100\n",
      "176/176 [==============================] - 1s 4ms/step - loss: 0.3700 - accuracy: 0.8283\n",
      "Epoch 52/100\n",
      "176/176 [==============================] - 1s 4ms/step - loss: 0.3701 - accuracy: 0.8235\n",
      "Epoch 53/100\n",
      "176/176 [==============================] - 1s 5ms/step - loss: 0.3703 - accuracy: 0.8274\n",
      "Epoch 54/100\n",
      "176/176 [==============================] - 1s 4ms/step - loss: 0.3698 - accuracy: 0.8276\n",
      "Epoch 55/100\n",
      "176/176 [==============================] - 1s 4ms/step - loss: 0.3681 - accuracy: 0.8267\n",
      "Epoch 56/100\n",
      "176/176 [==============================] - 1s 5ms/step - loss: 0.3683 - accuracy: 0.8272\n",
      "Epoch 57/100\n",
      "176/176 [==============================] - 1s 4ms/step - loss: 0.3672 - accuracy: 0.8277\n",
      "Epoch 58/100\n",
      "176/176 [==============================] - 1s 4ms/step - loss: 0.3692 - accuracy: 0.8267\n",
      "Epoch 59/100\n",
      "176/176 [==============================] - 1s 4ms/step - loss: 0.3675 - accuracy: 0.8281\n",
      "Epoch 60/100\n",
      "176/176 [==============================] - 1s 5ms/step - loss: 0.3674 - accuracy: 0.8261\n",
      "Epoch 61/100\n",
      "176/176 [==============================] - 1s 5ms/step - loss: 0.3663 - accuracy: 0.8267\n",
      "Epoch 62/100\n",
      "176/176 [==============================] - 1s 5ms/step - loss: 0.3668 - accuracy: 0.8274\n",
      "Epoch 63/100\n",
      "176/176 [==============================] - 1s 5ms/step - loss: 0.3662 - accuracy: 0.8304\n",
      "Epoch 64/100\n",
      "176/176 [==============================] - 1s 4ms/step - loss: 0.3638 - accuracy: 0.8297\n",
      "Epoch 65/100\n",
      "176/176 [==============================] - 1s 5ms/step - loss: 0.3631 - accuracy: 0.8313\n",
      "Epoch 66/100\n",
      "176/176 [==============================] - 1s 5ms/step - loss: 0.3644 - accuracy: 0.8316\n",
      "Epoch 67/100\n",
      "176/176 [==============================] - 1s 4ms/step - loss: 0.3628 - accuracy: 0.8279\n",
      "Epoch 68/100\n",
      "176/176 [==============================] - 1s 5ms/step - loss: 0.3634 - accuracy: 0.8284\n",
      "Epoch 69/100\n",
      "176/176 [==============================] - 1s 5ms/step - loss: 0.3621 - accuracy: 0.8306\n",
      "Epoch 70/100\n",
      "176/176 [==============================] - 1s 5ms/step - loss: 0.3607 - accuracy: 0.8306\n",
      "Epoch 71/100\n",
      "176/176 [==============================] - 1s 5ms/step - loss: 0.3611 - accuracy: 0.8309\n",
      "Epoch 72/100\n",
      "176/176 [==============================] - 1s 5ms/step - loss: 0.3593 - accuracy: 0.8309\n",
      "Epoch 73/100\n",
      "176/176 [==============================] - 1s 5ms/step - loss: 0.3600 - accuracy: 0.8327\n",
      "Epoch 74/100\n",
      "176/176 [==============================] - 1s 4ms/step - loss: 0.3585 - accuracy: 0.8318\n",
      "Epoch 75/100\n",
      "176/176 [==============================] - 1s 5ms/step - loss: 0.3577 - accuracy: 0.8338\n",
      "Epoch 76/100\n",
      "176/176 [==============================] - 1s 5ms/step - loss: 0.3576 - accuracy: 0.8315\n",
      "Epoch 77/100\n",
      "176/176 [==============================] - 1s 4ms/step - loss: 0.3580 - accuracy: 0.8309\n",
      "Epoch 78/100\n",
      "176/176 [==============================] - 1s 4ms/step - loss: 0.3559 - accuracy: 0.8334\n",
      "Epoch 79/100\n",
      "176/176 [==============================] - 1s 4ms/step - loss: 0.3573 - accuracy: 0.8331\n",
      "Epoch 80/100\n",
      "176/176 [==============================] - 1s 5ms/step - loss: 0.3560 - accuracy: 0.8332\n",
      "Epoch 81/100\n",
      "176/176 [==============================] - 1s 5ms/step - loss: 0.3548 - accuracy: 0.8332\n",
      "Epoch 82/100\n",
      "176/176 [==============================] - 1s 4ms/step - loss: 0.3538 - accuracy: 0.8368\n",
      "Epoch 83/100\n",
      "176/176 [==============================] - 1s 5ms/step - loss: 0.3545 - accuracy: 0.8348\n",
      "Epoch 84/100\n",
      "176/176 [==============================] - 1s 5ms/step - loss: 0.3538 - accuracy: 0.8361\n",
      "Epoch 85/100\n",
      "176/176 [==============================] - 1s 5ms/step - loss: 0.3548 - accuracy: 0.8334\n",
      "Epoch 86/100\n",
      "176/176 [==============================] - 1s 5ms/step - loss: 0.3535 - accuracy: 0.8382\n",
      "Epoch 87/100\n",
      "176/176 [==============================] - 1s 4ms/step - loss: 0.3549 - accuracy: 0.8311\n",
      "Epoch 88/100\n",
      "176/176 [==============================] - 1s 5ms/step - loss: 0.3532 - accuracy: 0.8380\n",
      "Epoch 89/100\n",
      "176/176 [==============================] - 1s 5ms/step - loss: 0.3512 - accuracy: 0.8361\n",
      "Epoch 90/100\n",
      "176/176 [==============================] - 1s 5ms/step - loss: 0.3528 - accuracy: 0.8350\n",
      "Epoch 91/100\n",
      "176/176 [==============================] - 1s 5ms/step - loss: 0.3512 - accuracy: 0.8350\n",
      "Epoch 92/100\n",
      "176/176 [==============================] - 1s 5ms/step - loss: 0.3499 - accuracy: 0.8420\n",
      "Epoch 93/100\n",
      "176/176 [==============================] - 1s 5ms/step - loss: 0.3498 - accuracy: 0.8368\n",
      "Epoch 94/100\n",
      "176/176 [==============================] - 1s 5ms/step - loss: 0.3496 - accuracy: 0.8354\n",
      "Epoch 95/100\n",
      "176/176 [==============================] - 1s 5ms/step - loss: 0.3493 - accuracy: 0.8359\n",
      "Epoch 96/100\n",
      "176/176 [==============================] - 1s 5ms/step - loss: 0.3488 - accuracy: 0.8357\n",
      "Epoch 97/100\n",
      "176/176 [==============================] - 1s 5ms/step - loss: 0.3474 - accuracy: 0.8334\n",
      "Epoch 98/100\n",
      "176/176 [==============================] - 1s 5ms/step - loss: 0.3482 - accuracy: 0.8361\n",
      "Epoch 99/100\n",
      "176/176 [==============================] - 1s 5ms/step - loss: 0.3477 - accuracy: 0.8363\n",
      "Epoch 100/100\n",
      "176/176 [==============================] - 1s 5ms/step - loss: 0.3465 - accuracy: 0.8380\n",
      "44/44 [==============================] - 1s 4ms/step - loss: 0.4879 - accuracy: 0.7846\n",
      "[0.48785942792892456, 0.7846481800079346]\n",
      "44/44 [==============================] - 0s 3ms/step\n",
      "Classification Report: \n",
      "               precision    recall  f1-score   support\n",
      "\n",
      "         0.0       0.85      0.86      0.85      1033\n",
      "         1.0       0.60      0.56      0.58       374\n",
      "\n",
      "    accuracy                           0.78      1407\n",
      "   macro avg       0.72      0.71      0.72      1407\n",
      "weighted avg       0.78      0.78      0.78      1407\n",
      "\n"
     ]
    }
   ],
   "source": [
    "y_preds = ANN(X_train, y_train, X_test, y_test, 'binary_crossentropy', -1)"
   ]
  },
  {
   "cell_type": "markdown",
   "metadata": {},
   "source": [
    "# Step-5: Mitigating Skewdness of Data"
   ]
  },
  {
   "cell_type": "markdown",
   "metadata": {},
   "source": [
    "    | Method 1: Undersampling\n",
    "reference: https://www.kaggle.com/code/rafjaa/resampling-strategies-for-imbalanced-datasets/notebook"
   ]
  },
  {
   "cell_type": "code",
   "execution_count": 97,
   "metadata": {},
   "outputs": [],
   "source": [
    "# Class count\n",
    "count_class_0, count_class_1 = df1.Churn.value_counts()\n",
    "\n",
    "# Divide by class\n",
    "df_class_0 = df2[df2['Churn'] == 0]\n",
    "df_class_1 = df2[df2['Churn'] == 1]"
   ]
  },
  {
   "cell_type": "code",
   "execution_count": 101,
   "metadata": {},
   "outputs": [
    {
     "data": {
      "text/plain": [
       "(5163, 27)"
      ]
     },
     "execution_count": 101,
     "metadata": {},
     "output_type": "execute_result"
    }
   ],
   "source": [
    "df_class_0.shape"
   ]
  },
  {
   "cell_type": "code",
   "execution_count": 99,
   "metadata": {},
   "outputs": [
    {
     "data": {
      "text/plain": [
       "(1869, 27)"
      ]
     },
     "execution_count": 99,
     "metadata": {},
     "output_type": "execute_result"
    }
   ],
   "source": [
    "df_class_1.shape()"
   ]
  },
  {
   "cell_type": "code",
   "execution_count": 103,
   "metadata": {},
   "outputs": [],
   "source": [
    "df_class_0_under=df_class_0.sample(count_class_1) # here under sampling  df_class_0"
   ]
  },
  {
   "cell_type": "markdown",
   "metadata": {},
   "source": [
    "| Note: Now df_class_0 & df_class_1 both are equal"
   ]
  },
  {
   "cell_type": "code",
   "execution_count": 105,
   "metadata": {},
   "outputs": [
    {
     "data": {
      "text/plain": [
       "((1869, 27), (1869, 27))"
      ]
     },
     "execution_count": 105,
     "metadata": {},
     "output_type": "execute_result"
    }
   ],
   "source": [
    "df_class_0_under.shape, df_class_1.shape"
   ]
  },
  {
   "cell_type": "markdown",
   "metadata": {},
   "source": [
    "    | both dataset Concatenation "
   ]
  },
  {
   "cell_type": "code",
   "execution_count": 108,
   "metadata": {},
   "outputs": [
    {
     "data": {
      "text/plain": [
       "(3738, 27)"
      ]
     },
     "execution_count": 108,
     "metadata": {},
     "output_type": "execute_result"
    }
   ],
   "source": [
    "df_test_under=pd.concat([df_class_0_under, df_class_1],axis=0)\n",
    "df_test_under.shape"
   ]
  },
  {
   "cell_type": "code",
   "execution_count": 111,
   "metadata": {},
   "outputs": [
    {
     "name": "stdout",
     "output_type": "stream",
     "text": [
      "Random under sapling\n",
      "0    1869\n",
      "1    1869\n",
      "Name: Churn, dtype: int64\n"
     ]
    }
   ],
   "source": [
    "print('Random under sapling')\n",
    "print(df_test_under.Churn.value_counts())"
   ]
  },
  {
   "cell_type": "code",
   "execution_count": 119,
   "metadata": {},
   "outputs": [
    {
     "data": {
      "text/plain": [
       "(3738, 27)"
      ]
     },
     "execution_count": 119,
     "metadata": {},
     "output_type": "execute_result"
    }
   ],
   "source": [
    "df_test_under.shape"
   ]
  },
  {
   "cell_type": "markdown",
   "metadata": {},
   "source": [
    "# Train Test split"
   ]
  },
  {
   "cell_type": "code",
   "execution_count": 124,
   "metadata": {},
   "outputs": [
    {
     "data": {
      "text/plain": [
       "(3738, 26)"
      ]
     },
     "execution_count": 124,
     "metadata": {},
     "output_type": "execute_result"
    }
   ],
   "source": [
    "x=df_test_under.drop('Churn',axis='columns')\n",
    "x.shape"
   ]
  },
  {
   "cell_type": "code",
   "execution_count": 123,
   "metadata": {},
   "outputs": [
    {
     "data": {
      "text/plain": [
       "(3738,)"
      ]
     },
     "execution_count": 123,
     "metadata": {},
     "output_type": "execute_result"
    }
   ],
   "source": [
    "y=df_test_under.Churn\n",
    "y.shape"
   ]
  },
  {
   "cell_type": "code",
   "execution_count": 127,
   "metadata": {},
   "outputs": [],
   "source": [
    "xtrain, xtest, ytrain, ytest=train_test_split(x,y,test_size=0.2,random_state=2, stratify=y)"
   ]
  },
  {
   "cell_type": "code",
   "execution_count": 129,
   "metadata": {},
   "outputs": [
    {
     "data": {
      "text/plain": [
       "(2990, 26)"
      ]
     },
     "execution_count": 129,
     "metadata": {},
     "output_type": "execute_result"
    }
   ],
   "source": [
    "xtrain.shape"
   ]
  },
  {
   "cell_type": "code",
   "execution_count": 130,
   "metadata": {},
   "outputs": [
    {
     "data": {
      "text/plain": [
       "(748, 26)"
      ]
     },
     "execution_count": 130,
     "metadata": {},
     "output_type": "execute_result"
    }
   ],
   "source": [
    "xtest.shape"
   ]
  },
  {
   "cell_type": "code",
   "execution_count": 131,
   "metadata": {},
   "outputs": [
    {
     "data": {
      "text/plain": [
       "0    1495\n",
       "1    1495\n",
       "Name: Churn, dtype: int64"
      ]
     },
     "execution_count": 131,
     "metadata": {},
     "output_type": "execute_result"
    }
   ],
   "source": [
    "ytrain.value_counts()"
   ]
  },
  {
   "cell_type": "code",
   "execution_count": 132,
   "metadata": {},
   "outputs": [
    {
     "name": "stdout",
     "output_type": "stream",
     "text": [
      "Epoch 1/100\n",
      "94/94 [==============================] - 2s 5ms/step - loss: 0.6065 - accuracy: 0.6873\n",
      "Epoch 2/100\n",
      "94/94 [==============================] - 0s 5ms/step - loss: 0.5188 - accuracy: 0.7441\n",
      "Epoch 3/100\n",
      "94/94 [==============================] - 0s 5ms/step - loss: 0.4992 - accuracy: 0.7555\n",
      "Epoch 4/100\n",
      "94/94 [==============================] - 0s 5ms/step - loss: 0.4931 - accuracy: 0.7582\n",
      "Epoch 5/100\n",
      "94/94 [==============================] - 0s 5ms/step - loss: 0.4886 - accuracy: 0.7555\n",
      "Epoch 6/100\n",
      "94/94 [==============================] - 0s 5ms/step - loss: 0.4869 - accuracy: 0.7615\n",
      "Epoch 7/100\n",
      "94/94 [==============================] - 0s 5ms/step - loss: 0.4822 - accuracy: 0.7629\n",
      "Epoch 8/100\n",
      "94/94 [==============================] - 0s 4ms/step - loss: 0.4802 - accuracy: 0.7612\n",
      "Epoch 9/100\n",
      "94/94 [==============================] - 1s 6ms/step - loss: 0.4779 - accuracy: 0.7642\n",
      "Epoch 10/100\n",
      "94/94 [==============================] - 1s 6ms/step - loss: 0.4760 - accuracy: 0.7682\n",
      "Epoch 11/100\n",
      "94/94 [==============================] - 1s 5ms/step - loss: 0.4749 - accuracy: 0.7659\n",
      "Epoch 12/100\n",
      "94/94 [==============================] - 0s 4ms/step - loss: 0.4727 - accuracy: 0.7662\n",
      "Epoch 13/100\n",
      "94/94 [==============================] - 0s 5ms/step - loss: 0.4723 - accuracy: 0.7635\n",
      "Epoch 14/100\n",
      "94/94 [==============================] - 0s 5ms/step - loss: 0.4689 - accuracy: 0.7682\n",
      "Epoch 15/100\n",
      "94/94 [==============================] - 0s 5ms/step - loss: 0.4679 - accuracy: 0.7672\n",
      "Epoch 16/100\n",
      "94/94 [==============================] - 0s 5ms/step - loss: 0.4667 - accuracy: 0.7702\n",
      "Epoch 17/100\n",
      "94/94 [==============================] - 0s 5ms/step - loss: 0.4634 - accuracy: 0.7712\n",
      "Epoch 18/100\n",
      "94/94 [==============================] - 1s 5ms/step - loss: 0.4634 - accuracy: 0.7729\n",
      "Epoch 19/100\n",
      "94/94 [==============================] - 0s 5ms/step - loss: 0.4616 - accuracy: 0.7749\n",
      "Epoch 20/100\n",
      "94/94 [==============================] - 0s 5ms/step - loss: 0.4611 - accuracy: 0.7756\n",
      "Epoch 21/100\n",
      "94/94 [==============================] - 0s 4ms/step - loss: 0.4580 - accuracy: 0.7749\n",
      "Epoch 22/100\n",
      "94/94 [==============================] - 0s 5ms/step - loss: 0.4566 - accuracy: 0.7796\n",
      "Epoch 23/100\n",
      "94/94 [==============================] - 0s 5ms/step - loss: 0.4548 - accuracy: 0.7813\n",
      "Epoch 24/100\n",
      "94/94 [==============================] - 0s 4ms/step - loss: 0.4540 - accuracy: 0.7796\n",
      "Epoch 25/100\n",
      "94/94 [==============================] - 0s 5ms/step - loss: 0.4529 - accuracy: 0.7789\n",
      "Epoch 26/100\n",
      "94/94 [==============================] - 1s 6ms/step - loss: 0.4509 - accuracy: 0.7829\n",
      "Epoch 27/100\n",
      "94/94 [==============================] - 0s 4ms/step - loss: 0.4506 - accuracy: 0.7813\n",
      "Epoch 28/100\n",
      "94/94 [==============================] - 0s 4ms/step - loss: 0.4474 - accuracy: 0.7826\n",
      "Epoch 29/100\n",
      "94/94 [==============================] - 0s 4ms/step - loss: 0.4465 - accuracy: 0.7853\n",
      "Epoch 30/100\n",
      "94/94 [==============================] - 0s 4ms/step - loss: 0.4459 - accuracy: 0.7863\n",
      "Epoch 31/100\n",
      "94/94 [==============================] - 0s 4ms/step - loss: 0.4431 - accuracy: 0.7870\n",
      "Epoch 32/100\n",
      "94/94 [==============================] - 0s 4ms/step - loss: 0.4432 - accuracy: 0.7880\n",
      "Epoch 33/100\n",
      "94/94 [==============================] - 0s 4ms/step - loss: 0.4414 - accuracy: 0.7906\n",
      "Epoch 34/100\n",
      "94/94 [==============================] - 0s 4ms/step - loss: 0.4389 - accuracy: 0.7946\n",
      "Epoch 35/100\n",
      "94/94 [==============================] - 0s 4ms/step - loss: 0.4387 - accuracy: 0.7870\n",
      "Epoch 36/100\n",
      "94/94 [==============================] - 0s 4ms/step - loss: 0.4377 - accuracy: 0.7916\n",
      "Epoch 37/100\n",
      "94/94 [==============================] - 0s 4ms/step - loss: 0.4338 - accuracy: 0.7957\n",
      "Epoch 38/100\n",
      "94/94 [==============================] - 0s 4ms/step - loss: 0.4363 - accuracy: 0.7916\n",
      "Epoch 39/100\n",
      "94/94 [==============================] - 0s 4ms/step - loss: 0.4349 - accuracy: 0.7967\n",
      "Epoch 40/100\n",
      "94/94 [==============================] - 0s 4ms/step - loss: 0.4328 - accuracy: 0.7970\n",
      "Epoch 41/100\n",
      "94/94 [==============================] - 0s 4ms/step - loss: 0.4337 - accuracy: 0.7963\n",
      "Epoch 42/100\n",
      "94/94 [==============================] - 0s 5ms/step - loss: 0.4306 - accuracy: 0.8047\n",
      "Epoch 43/100\n",
      "94/94 [==============================] - 0s 4ms/step - loss: 0.4305 - accuracy: 0.7957\n",
      "Epoch 44/100\n",
      "94/94 [==============================] - 0s 4ms/step - loss: 0.4279 - accuracy: 0.8013\n",
      "Epoch 45/100\n",
      "94/94 [==============================] - 0s 5ms/step - loss: 0.4272 - accuracy: 0.8023\n",
      "Epoch 46/100\n",
      "94/94 [==============================] - 0s 4ms/step - loss: 0.4257 - accuracy: 0.8013\n",
      "Epoch 47/100\n",
      "94/94 [==============================] - 0s 4ms/step - loss: 0.4261 - accuracy: 0.8060\n",
      "Epoch 48/100\n",
      "94/94 [==============================] - 0s 4ms/step - loss: 0.4249 - accuracy: 0.8054\n",
      "Epoch 49/100\n",
      "94/94 [==============================] - 0s 5ms/step - loss: 0.4262 - accuracy: 0.7983\n",
      "Epoch 50/100\n",
      "94/94 [==============================] - 0s 4ms/step - loss: 0.4222 - accuracy: 0.8047\n",
      "Epoch 51/100\n",
      "94/94 [==============================] - 0s 4ms/step - loss: 0.4229 - accuracy: 0.8013\n",
      "Epoch 52/100\n",
      "94/94 [==============================] - 0s 4ms/step - loss: 0.4205 - accuracy: 0.8030\n",
      "Epoch 53/100\n",
      "94/94 [==============================] - 0s 4ms/step - loss: 0.4191 - accuracy: 0.8033\n",
      "Epoch 54/100\n",
      "94/94 [==============================] - 0s 4ms/step - loss: 0.4173 - accuracy: 0.8084\n",
      "Epoch 55/100\n",
      "94/94 [==============================] - 0s 4ms/step - loss: 0.4164 - accuracy: 0.8074\n",
      "Epoch 56/100\n",
      "94/94 [==============================] - 0s 5ms/step - loss: 0.4173 - accuracy: 0.8077\n",
      "Epoch 57/100\n",
      "94/94 [==============================] - 0s 5ms/step - loss: 0.4163 - accuracy: 0.8060\n",
      "Epoch 58/100\n",
      "94/94 [==============================] - 0s 4ms/step - loss: 0.4140 - accuracy: 0.8120\n",
      "Epoch 59/100\n",
      "94/94 [==============================] - 0s 4ms/step - loss: 0.4144 - accuracy: 0.8064\n",
      "Epoch 60/100\n",
      "94/94 [==============================] - 0s 4ms/step - loss: 0.4133 - accuracy: 0.8104\n",
      "Epoch 61/100\n",
      "94/94 [==============================] - 0s 4ms/step - loss: 0.4117 - accuracy: 0.8100\n",
      "Epoch 62/100\n",
      "94/94 [==============================] - 0s 4ms/step - loss: 0.4116 - accuracy: 0.8087\n",
      "Epoch 63/100\n",
      "94/94 [==============================] - 0s 5ms/step - loss: 0.4094 - accuracy: 0.8154\n",
      "Epoch 64/100\n",
      "94/94 [==============================] - 0s 5ms/step - loss: 0.4081 - accuracy: 0.8134\n",
      "Epoch 65/100\n",
      "94/94 [==============================] - 0s 4ms/step - loss: 0.4089 - accuracy: 0.8127\n",
      "Epoch 66/100\n",
      "94/94 [==============================] - 0s 4ms/step - loss: 0.4077 - accuracy: 0.8194\n",
      "Epoch 67/100\n",
      "94/94 [==============================] - 0s 4ms/step - loss: 0.4053 - accuracy: 0.8127\n",
      "Epoch 68/100\n",
      "94/94 [==============================] - 0s 4ms/step - loss: 0.4060 - accuracy: 0.8157\n",
      "Epoch 69/100\n",
      "94/94 [==============================] - 0s 4ms/step - loss: 0.4048 - accuracy: 0.8157\n",
      "Epoch 70/100\n",
      "94/94 [==============================] - 0s 4ms/step - loss: 0.4054 - accuracy: 0.8147\n",
      "Epoch 71/100\n",
      "94/94 [==============================] - 0s 4ms/step - loss: 0.4022 - accuracy: 0.8171\n",
      "Epoch 72/100\n",
      "94/94 [==============================] - 0s 4ms/step - loss: 0.4026 - accuracy: 0.8154\n",
      "Epoch 73/100\n",
      "94/94 [==============================] - 0s 4ms/step - loss: 0.4003 - accuracy: 0.8227\n",
      "Epoch 74/100\n",
      "94/94 [==============================] - 0s 4ms/step - loss: 0.3988 - accuracy: 0.8161\n",
      "Epoch 75/100\n",
      "94/94 [==============================] - 0s 4ms/step - loss: 0.4026 - accuracy: 0.8174\n",
      "Epoch 76/100\n",
      "94/94 [==============================] - 0s 4ms/step - loss: 0.3994 - accuracy: 0.8201\n",
      "Epoch 77/100\n",
      "94/94 [==============================] - 0s 5ms/step - loss: 0.3981 - accuracy: 0.8201\n",
      "Epoch 78/100\n",
      "94/94 [==============================] - 0s 5ms/step - loss: 0.3982 - accuracy: 0.8151\n",
      "Epoch 79/100\n",
      "94/94 [==============================] - 0s 5ms/step - loss: 0.3979 - accuracy: 0.8204\n",
      "Epoch 80/100\n",
      "94/94 [==============================] - 0s 4ms/step - loss: 0.3972 - accuracy: 0.8201\n",
      "Epoch 81/100\n",
      "94/94 [==============================] - 0s 4ms/step - loss: 0.3927 - accuracy: 0.8241\n",
      "Epoch 82/100\n",
      "94/94 [==============================] - 0s 4ms/step - loss: 0.3933 - accuracy: 0.8207\n",
      "Epoch 83/100\n",
      "94/94 [==============================] - 0s 4ms/step - loss: 0.3933 - accuracy: 0.8191\n",
      "Epoch 84/100\n",
      "94/94 [==============================] - 0s 4ms/step - loss: 0.3930 - accuracy: 0.8281\n",
      "Epoch 85/100\n",
      "94/94 [==============================] - 0s 5ms/step - loss: 0.3945 - accuracy: 0.8237\n",
      "Epoch 86/100\n",
      "94/94 [==============================] - 0s 4ms/step - loss: 0.3930 - accuracy: 0.8224\n",
      "Epoch 87/100\n",
      "94/94 [==============================] - 0s 4ms/step - loss: 0.3896 - accuracy: 0.8247\n",
      "Epoch 88/100\n",
      "94/94 [==============================] - 0s 4ms/step - loss: 0.3905 - accuracy: 0.8261\n",
      "Epoch 89/100\n",
      "94/94 [==============================] - 0s 4ms/step - loss: 0.3898 - accuracy: 0.8284\n",
      "Epoch 90/100\n",
      "94/94 [==============================] - 0s 4ms/step - loss: 0.3903 - accuracy: 0.8237\n",
      "Epoch 91/100\n",
      "94/94 [==============================] - 0s 4ms/step - loss: 0.3899 - accuracy: 0.8231\n",
      "Epoch 92/100\n",
      "94/94 [==============================] - 0s 4ms/step - loss: 0.3879 - accuracy: 0.8237\n",
      "Epoch 93/100\n",
      "94/94 [==============================] - 0s 4ms/step - loss: 0.3878 - accuracy: 0.8251\n",
      "Epoch 94/100\n",
      "94/94 [==============================] - 0s 4ms/step - loss: 0.3862 - accuracy: 0.8291\n",
      "Epoch 95/100\n",
      "94/94 [==============================] - 0s 4ms/step - loss: 0.3877 - accuracy: 0.8234\n",
      "Epoch 96/100\n",
      "94/94 [==============================] - 0s 5ms/step - loss: 0.3860 - accuracy: 0.8274\n",
      "Epoch 97/100\n",
      "94/94 [==============================] - 0s 5ms/step - loss: 0.3856 - accuracy: 0.8234\n",
      "Epoch 98/100\n",
      "94/94 [==============================] - 0s 4ms/step - loss: 0.3861 - accuracy: 0.8274\n",
      "Epoch 99/100\n",
      "94/94 [==============================] - 0s 4ms/step - loss: 0.3854 - accuracy: 0.8274\n",
      "Epoch 100/100\n",
      "94/94 [==============================] - 0s 4ms/step - loss: 0.3830 - accuracy: 0.8324\n",
      "24/24 [==============================] - 0s 4ms/step - loss: 0.5577 - accuracy: 0.7353\n",
      "[0.5576894283294678, 0.7352941036224365]\n",
      "24/24 [==============================] - 0s 3ms/step\n",
      "Classification Report: \n",
      "               precision    recall  f1-score   support\n",
      "\n",
      "           0       0.76      0.68      0.72       374\n",
      "           1       0.71      0.79      0.75       374\n",
      "\n",
      "    accuracy                           0.74       748\n",
      "   macro avg       0.74      0.74      0.73       748\n",
      "weighted avg       0.74      0.74      0.73       748\n",
      "\n"
     ]
    }
   ],
   "source": [
    "y_preds = ANN(xtrain, ytrain, xtest, ytest, 'binary_crossentropy', -1)"
   ]
  },
  {
   "cell_type": "code",
   "execution_count": 85,
   "metadata": {},
   "outputs": [
    {
     "data": {
      "text/plain": [
       "gender                int64\n",
       "SeniorCitizen         int64\n",
       "Partner               int64\n",
       "Dependents            int64\n",
       "tenure                int64\n",
       "PhoneService          int64\n",
       "MultipleLines         int64\n",
       "InternetService      object\n",
       "OnlineSecurity        int64\n",
       "OnlineBackup          int64\n",
       "DeviceProtection      int64\n",
       "TechSupport           int64\n",
       "StreamingTV           int64\n",
       "StreamingMovies       int64\n",
       "Contract             object\n",
       "PaperlessBilling      int64\n",
       "PaymentMethod        object\n",
       "MonthlyCharges      float64\n",
       "TotalCharges        float64\n",
       "Churn                 int64\n",
       "dtype: object"
      ]
     },
     "execution_count": 85,
     "metadata": {},
     "output_type": "execute_result"
    }
   ],
   "source": [
    "df1.dtypes"
   ]
  }
 ],
 "metadata": {
  "kernelspec": {
   "display_name": "Python 3.10.1 64-bit",
   "language": "python",
   "name": "python3"
  },
  "language_info": {
   "codemirror_mode": {
    "name": "ipython",
    "version": 3
   },
   "file_extension": ".py",
   "mimetype": "text/x-python",
   "name": "python",
   "nbconvert_exporter": "python",
   "pygments_lexer": "ipython3",
   "version": "3.10.1"
  },
  "orig_nbformat": 4,
  "vscode": {
   "interpreter": {
    "hash": "369f2c481f4da34e4445cda3fffd2e751bd1c4d706f27375911949ba6bb62e1c"
   }
  }
 },
 "nbformat": 4,
 "nbformat_minor": 2
}
